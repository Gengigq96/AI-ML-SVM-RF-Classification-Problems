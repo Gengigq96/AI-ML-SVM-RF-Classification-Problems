{
 "cells": [
  {
   "cell_type": "markdown",
   "id": "d527775b",
   "metadata": {},
   "source": [
    "# Clasificación con máquinas de vectores de soporte y random forest\n",
    "\n",
    "## Objetivos\n",
    "\n",
    "Mediante esta actividad se pretende que ponga en práctica la creación de modelos basados en máquinas de vector de soporte y random forest. El objetivo es comprender de forma práctica con un problema determinado las diferencias que existen a la hora de entrenar los diferentes modelos.\n",
    "\n",
    "- Comprender el tratamiento de datos que hay que realizar para los modelos de clasificación.\n",
    "- Entender y aplicar el algoritmo de Random Forest a un problema de clasificación.\n",
    "- Entender y aplicar el algoritmo de Support Vector Machine a un problema de clasificación.\n",
    "- Evaluar y analizar los resultados de los clasificadores.\n",
    "- Investigar la aplicación de los modelos de clasificación a problemas reales.\n",
    "\n",
    "\n",
    "## Descripción de la actividad\n",
    "\n",
    "El conjunto de datos con el que vamos a trabajar se encuentra en el siguiente enlace: https://archive.ics.uci.edu/dataset/31/covertype\n",
    "\n",
    "Este dataset ha sido generado para predecir el tipo de cubierta forestal únicamente a partir de variables cartográficas (sin datos de sensores remotos). El tipo de cubierta forestal real para una observación determinada (celda de 30 x 30 metros) se determinó a partir de los datos del Sistema de información de recursos (RIS) de la Región 2 del Servicio Forestal de EE. UU. (USFS). Las variables independientes se derivaron de datos obtenidos originalmente del Servicio Geológico de EE. UU. (USGS) y de datos del USFS. Los datos están en forma original (no escalados) y contienen columnas binarias (0 o 1) de datos para variables cualitativas independientes (áreas silvestres y tipos de suelo).\n",
    "Para ampliar información sobre el dataset y su origen, recomendamos leer la descripción completa del dataset en el enlace del repositorio. l.\n",
    "\n",
    "El objetivo de la clasificación será detectar el tipo de suelo.\n",
    "\n",
    "### Tareas que se deben realizar\n",
    "\n",
    "- Análisis descriptivo de los datos:\n",
    "   - Debe completarse el código solicitado y responder a las preguntas. Todo ello en el notebook dado como base.\n",
    "- Clasificación:\n",
    "  - Debe completarse el código solicitado y responder a las preguntas. Todo ello en el notebook dado como base.\n"
   ]
  },
  {
   "cell_type": "markdown",
   "id": "c399e1d6",
   "metadata": {},
   "source": [
    "### Análisis descriptivo de los datos"
   ]
  },
  {
   "cell_type": "code",
   "execution_count": 1,
   "id": "ed8056a1",
   "metadata": {},
   "outputs": [],
   "source": [
    "import numpy as np\n",
    "import pandas as pd\n",
    "from matplotlib import pyplot as plt\n",
    "import seaborn as sns"
   ]
  },
  {
   "cell_type": "code",
   "execution_count": 2,
   "id": "9c732dd7",
   "metadata": {},
   "outputs": [
    {
     "name": "stdout",
     "output_type": "stream",
     "text": [
      "{'uci_id': 31, 'name': 'Covertype', 'repository_url': 'https://archive.ics.uci.edu/dataset/31/covertype', 'data_url': 'https://archive.ics.uci.edu/static/public/31/data.csv', 'abstract': 'Classification of pixels into 7 forest cover types based on attributes such as elevation, aspect, slope, hillshade, soil-type, and more.', 'area': 'Biology', 'tasks': ['Classification'], 'characteristics': ['Multivariate'], 'num_instances': 581012, 'num_features': 54, 'feature_types': ['Categorical', 'Integer'], 'demographics': [], 'target_col': ['Cover_Type'], 'index_col': None, 'has_missing_values': 'no', 'missing_values_symbol': None, 'year_of_dataset_creation': 1998, 'last_updated': 'Sat Mar 16 2024', 'dataset_doi': '10.24432/C50K5N', 'creators': ['Jock Blackard'], 'intro_paper': None, 'additional_info': {'summary': 'Predicting forest cover type from cartographic variables only (no remotely sensed data).  The actual forest cover type for a given observation (30 x 30 meter cell) was determined from US Forest Service (USFS) Region 2 Resource Information System (RIS) data.  Independent variables were derived from data originally obtained from US Geological Survey (USGS) and USFS data.  Data is in raw form (not scaled) and contains binary (0 or 1) columns of data for qualitative independent variables (wilderness areas and soil types).\\r\\n\\r\\nThis study area includes four wilderness areas located in the Roosevelt National Forest of northern Colorado.  These areas represent forests with minimal human-caused disturbances, so that existing forest cover types are more a result of ecological processes rather than forest management practices.\\r\\n\\r\\nSome background information for these four wilderness areas: Neota (area 2) probably has the highest mean elevational value of the 4 wilderness areas. Rawah (area 1) and Comanche Peak (area 3) would have a lower mean elevational value, while Cache la Poudre (area 4) would have the lowest mean elevational value. \\r\\n\\r\\nAs for primary major tree species in these areas, Neota would have spruce/fir (type 1), while Rawah and Comanche Peak would probably have lodgepole pine (type 2) as their primary species, followed by spruce/fir and aspen (type 5). Cache la Poudre would tend to have Ponderosa pine (type 3), Douglas-fir (type 6), and cottonwood/willow (type 4).  \\r\\n\\r\\nThe Rawah and Comanche Peak areas would tend to be more typical of the overall dataset than either the Neota or Cache la Poudre, due to their assortment of tree species and range of predictive variable values (elevation, etc.)  Cache la Poudre would probably  be more unique than the others, due to its relatively low  elevation range and species composition. ', 'purpose': None, 'funded_by': None, 'instances_represent': None, 'recommended_data_splits': None, 'sensitive_data': None, 'preprocessing_description': None, 'variable_info': 'Given is the attribute name, attribute type, the measurement unit and a brief description.  The forest cover type is the classification  problem.  The order of this listing corresponds to the order of numerals along the rows of the database.\\r\\n\\r\\nName / Data Type / Measurement / Description\\r\\n\\r\\nElevation / quantitative /meters / Elevation in meters\\r\\nAspect / quantitative / azimuth / Aspect in degrees azimuth\\r\\nSlope / quantitative / degrees / Slope in degrees\\r\\nHorizontal_Distance_To_Hydrology / quantitative / meters / Horz Dist to nearest surface water features\\r\\nVertical_Distance_To_Hydrology / quantitative / meters / Vert Dist to nearest surface water features\\r\\nHorizontal_Distance_To_Roadways / quantitative / meters / Horz Dist to nearest roadway\\r\\nHillshade_9am / quantitative / 0 to 255 index / Hillshade index at 9am, summer solstice\\r\\nHillshade_Noon / quantitative / 0 to 255 index / Hillshade index at noon, summer soltice\\r\\nHillshade_3pm / quantitative / 0 to 255 index / Hillshade index at 3pm, summer solstice\\r\\nHorizontal_Distance_To_Fire_Points / quantitative / meters / Horz Dist to nearest wildfire ignition points\\r\\nWilderness_Area (4 binary columns) / qualitative / 0 (absence) or 1 (presence) / Wilderness area designation\\r\\nSoil_Type (40 binary columns) / qualitative / 0 (absence) or 1 (presence) / Soil Type designation\\r\\nCover_Type (7 types) / integer / 1 to 7 / Forest Cover Type designation', 'citation': None}}\n",
      "                                  name     role     type demographic  \\\n",
      "0                            Elevation  Feature  Integer        None   \n",
      "1                               Aspect  Feature  Integer        None   \n",
      "2                                Slope  Feature  Integer        None   \n",
      "3     Horizontal_Distance_To_Hydrology  Feature  Integer        None   \n",
      "4       Vertical_Distance_To_Hydrology  Feature  Integer        None   \n",
      "5      Horizontal_Distance_To_Roadways  Feature  Integer        None   \n",
      "6                        Hillshade_9am  Feature  Integer        None   \n",
      "7                       Hillshade_Noon  Feature  Integer        None   \n",
      "8                        Hillshade_3pm  Feature  Integer        None   \n",
      "9   Horizontal_Distance_To_Fire_Points  Feature  Integer        None   \n",
      "10                    Wilderness_Area1  Feature  Integer        None   \n",
      "11                          Soil_Type1  Feature  Integer        None   \n",
      "12                          Soil_Type2  Feature  Integer        None   \n",
      "13                          Soil_Type3  Feature  Integer        None   \n",
      "14                          Soil_Type4  Feature  Integer        None   \n",
      "15                          Soil_Type5  Feature  Integer        None   \n",
      "16                          Soil_Type6  Feature  Integer        None   \n",
      "17                          Soil_Type7  Feature  Integer        None   \n",
      "18                          Soil_Type8  Feature  Integer        None   \n",
      "19                          Soil_Type9  Feature  Integer        None   \n",
      "20                         Soil_Type10  Feature  Integer        None   \n",
      "21                         Soil_Type11  Feature  Integer        None   \n",
      "22                         Soil_Type12  Feature  Integer        None   \n",
      "23                         Soil_Type13  Feature  Integer        None   \n",
      "24                         Soil_Type14  Feature  Integer        None   \n",
      "25                         Soil_Type15  Feature  Integer        None   \n",
      "26                         Soil_Type16  Feature  Integer        None   \n",
      "27                         Soil_Type17  Feature  Integer        None   \n",
      "28                         Soil_Type18  Feature  Integer        None   \n",
      "29                         Soil_Type19  Feature  Integer        None   \n",
      "30                         Soil_Type20  Feature  Integer        None   \n",
      "31                         Soil_Type21  Feature  Integer        None   \n",
      "32                         Soil_Type22  Feature  Integer        None   \n",
      "33                         Soil_Type23  Feature  Integer        None   \n",
      "34                         Soil_Type24  Feature  Integer        None   \n",
      "35                         Soil_Type25  Feature  Integer        None   \n",
      "36                         Soil_Type26  Feature  Integer        None   \n",
      "37                         Soil_Type27  Feature  Integer        None   \n",
      "38                         Soil_Type28  Feature  Integer        None   \n",
      "39                         Soil_Type29  Feature  Integer        None   \n",
      "40                         Soil_Type30  Feature  Integer        None   \n",
      "41                         Soil_Type31  Feature  Integer        None   \n",
      "42                         Soil_Type32  Feature  Integer        None   \n",
      "43                         Soil_Type33  Feature  Integer        None   \n",
      "44                         Soil_Type34  Feature  Integer        None   \n",
      "45                         Soil_Type35  Feature  Integer        None   \n",
      "46                         Soil_Type36  Feature  Integer        None   \n",
      "47                         Soil_Type37  Feature  Integer        None   \n",
      "48                         Soil_Type38  Feature  Integer        None   \n",
      "49                         Soil_Type39  Feature  Integer        None   \n",
      "50                         Soil_Type40  Feature  Integer        None   \n",
      "51                          Cover_Type   Target  Integer        None   \n",
      "52                    Wilderness_Area2  Feature  Integer        None   \n",
      "53                    Wilderness_Area3  Feature  Integer        None   \n",
      "54                    Wilderness_Area4  Feature  Integer        None   \n",
      "\n",
      "   description units missing_values  \n",
      "0         None  None             no  \n",
      "1         None  None             no  \n",
      "2         None  None             no  \n",
      "3         None  None             no  \n",
      "4         None  None             no  \n",
      "5         None  None             no  \n",
      "6         None  None             no  \n",
      "7         None  None             no  \n",
      "8         None  None             no  \n",
      "9         None  None             no  \n",
      "10        None  None             no  \n",
      "11        None  None             no  \n",
      "12        None  None             no  \n",
      "13        None  None             no  \n",
      "14        None  None             no  \n",
      "15        None  None             no  \n",
      "16        None  None             no  \n",
      "17        None  None             no  \n",
      "18        None  None             no  \n",
      "19        None  None             no  \n",
      "20        None  None             no  \n",
      "21        None  None             no  \n",
      "22        None  None             no  \n",
      "23        None  None             no  \n",
      "24        None  None             no  \n",
      "25        None  None             no  \n",
      "26        None  None             no  \n",
      "27        None  None             no  \n",
      "28        None  None             no  \n",
      "29        None  None             no  \n",
      "30        None  None             no  \n",
      "31        None  None             no  \n",
      "32        None  None             no  \n",
      "33        None  None             no  \n",
      "34        None  None             no  \n",
      "35        None  None             no  \n",
      "36        None  None             no  \n",
      "37        None  None             no  \n",
      "38        None  None             no  \n",
      "39        None  None             no  \n",
      "40        None  None             no  \n",
      "41        None  None             no  \n",
      "42        None  None             no  \n",
      "43        None  None             no  \n",
      "44        None  None             no  \n",
      "45        None  None             no  \n",
      "46        None  None             no  \n",
      "47        None  None             no  \n",
      "48        None  None             no  \n",
      "49        None  None             no  \n",
      "50        None  None             no  \n",
      "51        None  None             no  \n",
      "52        None  None             no  \n",
      "53        None  None             no  \n",
      "54        None  None             no  \n",
      "   Elevation  Aspect  Slope  Horizontal_Distance_To_Hydrology  \\\n",
      "0       2596      51      3                               258   \n",
      "1       2590      56      2                               212   \n",
      "2       2804     139      9                               268   \n",
      "3       2785     155     18                               242   \n",
      "4       2595      45      2                               153   \n",
      "\n",
      "   Vertical_Distance_To_Hydrology  Horizontal_Distance_To_Roadways  \\\n",
      "0                               0                              510   \n",
      "1                              -6                              390   \n",
      "2                              65                             3180   \n",
      "3                             118                             3090   \n",
      "4                              -1                              391   \n",
      "\n",
      "   Hillshade_9am  Hillshade_Noon  Hillshade_3pm  \\\n",
      "0            221             232            148   \n",
      "1            220             235            151   \n",
      "2            234             238            135   \n",
      "3            238             238            122   \n",
      "4            220             234            150   \n",
      "\n",
      "   Horizontal_Distance_To_Fire_Points  ...  Soil_Type35  Soil_Type36  \\\n",
      "0                                6279  ...            0            0   \n",
      "1                                6225  ...            0            0   \n",
      "2                                6121  ...            0            0   \n",
      "3                                6211  ...            0            0   \n",
      "4                                6172  ...            0            0   \n",
      "\n",
      "   Soil_Type37  Soil_Type38  Soil_Type39  Soil_Type40  Wilderness_Area2  \\\n",
      "0            0            0            0            0                 0   \n",
      "1            0            0            0            0                 0   \n",
      "2            0            0            0            0                 0   \n",
      "3            0            0            0            0                 0   \n",
      "4            0            0            0            0                 0   \n",
      "\n",
      "   Wilderness_Area3  Wilderness_Area4  Cover_Type  \n",
      "0                 0                 0           5  \n",
      "1                 0                 0           5  \n",
      "2                 0                 0           2  \n",
      "3                 0                 0           2  \n",
      "4                 0                 0           5  \n",
      "\n",
      "[5 rows x 55 columns]\n"
     ]
    }
   ],
   "source": [
    "# se carga el dataset\n",
    "from ucimlrepo import fetch_ucirepo \n",
    "  \n",
    "# fetch dataset \n",
    "covertype = fetch_ucirepo(id=31) \n",
    "  \n",
    "# data (as pandas dataframes) \n",
    "X = covertype.data.features \n",
    "y = covertype.data.targets \n",
    "  \n",
    "# Crear un dataframe\n",
    "df = pd.concat([X, y], axis=1)\n",
    "# metadata \n",
    "print(covertype.metadata) \n",
    "  \n",
    "# variable information \n",
    "print(covertype.variables) \n",
    "\n",
    "# Mostrar las primeras filas del dataframe\n",
    "print(df.head())"
   ]
  },
  {
   "cell_type": "markdown",
   "id": "2b5650ab",
   "metadata": {},
   "source": [
    "¿Cuántas instancias de datos tiene el dataset?"
   ]
  },
  {
   "cell_type": "code",
   "execution_count": 3,
   "id": "c21b23d3",
   "metadata": {},
   "outputs": [
    {
     "data": {
      "text/plain": [
       "(581012, 55)"
      ]
     },
     "execution_count": 3,
     "metadata": {},
     "output_type": "execute_result"
    }
   ],
   "source": [
    "## PON AQUÍ TU CÓDIGO\n",
    "df.shape"
   ]
  },
  {
   "cell_type": "markdown",
   "id": "1869d474",
   "metadata": {},
   "source": [
    "## Respuesta\n",
    "El dataset presenta un total de <b>581.012</b> Registros informados."
   ]
  },
  {
   "cell_type": "markdown",
   "id": "26e1d966",
   "metadata": {},
   "source": [
    "¿Cuántas variables continuas hay en el dataset?"
   ]
  },
  {
   "cell_type": "code",
   "execution_count": 4,
   "id": "2c013ce3",
   "metadata": {},
   "outputs": [
    {
     "name": "stdout",
     "output_type": "stream",
     "text": [
      "Elevation                             1999\n",
      "Aspect                                 360\n",
      "Slope                                   66\n",
      "Horizontal_Distance_To_Hydrology      1397\n",
      "Vertical_Distance_To_Hydrology         774\n",
      "Horizontal_Distance_To_Roadways       7117\n",
      "Hillshade_9am                          254\n",
      "Hillshade_Noon                         254\n",
      "Hillshade_3pm                          254\n",
      "Horizontal_Distance_To_Fire_Points    7173\n",
      "Wilderness_Area1                         1\n",
      "Soil_Type1                               1\n",
      "Soil_Type2                               1\n",
      "Soil_Type3                               1\n",
      "Soil_Type4                               1\n",
      "Soil_Type5                               1\n",
      "Soil_Type6                               1\n",
      "Soil_Type7                               1\n",
      "Soil_Type8                               1\n",
      "Soil_Type9                               1\n",
      "Soil_Type10                              1\n",
      "Soil_Type11                              1\n",
      "Soil_Type12                              1\n",
      "Soil_Type13                              1\n",
      "Soil_Type14                              1\n",
      "Soil_Type15                              1\n",
      "Soil_Type16                              1\n",
      "Soil_Type17                              1\n",
      "Soil_Type18                              1\n",
      "Soil_Type19                              1\n",
      "Soil_Type20                              1\n",
      "Soil_Type21                              1\n",
      "Soil_Type22                              1\n",
      "Soil_Type23                              1\n",
      "Soil_Type24                              1\n",
      "Soil_Type25                              1\n",
      "Soil_Type26                              1\n",
      "Soil_Type27                              1\n",
      "Soil_Type28                              1\n",
      "Soil_Type29                              1\n",
      "Soil_Type30                              1\n",
      "Soil_Type31                              1\n",
      "Soil_Type32                              1\n",
      "Soil_Type33                              1\n",
      "Soil_Type34                              1\n",
      "Soil_Type35                              1\n",
      "Soil_Type36                              1\n",
      "Soil_Type37                              1\n",
      "Soil_Type38                              1\n",
      "Soil_Type39                              1\n",
      "Soil_Type40                              1\n",
      "Wilderness_Area2                         1\n",
      "Wilderness_Area3                         1\n",
      "Wilderness_Area4                         1\n",
      "Cover_Type                               6\n",
      "dtype: int64\n"
     ]
    }
   ],
   "source": [
    "#Rango de valores por columna\n",
    "print(df.max() - df.min())"
   ]
  },
  {
   "cell_type": "markdown",
   "id": "29b8ec58",
   "metadata": {},
   "source": [
    "Hay 10 Variables continuas:\n",
    "*   Elevation                            \n",
    "*   Aspect                                \n",
    "*   Slope                                 \n",
    "*   Horizontal_Distance_To_Hydrology      \n",
    "*   Vertical_Distance_To_Hydrology        \n",
    "*   Horizontal_Distance_To_Roadways       \n",
    "*   Hillshade_9am                         \n",
    "*   Hillshade_Noon                        \n",
    "*   Hillshade_3pm                         \n",
    "*   Horizontal_Distance_To_Fire_Points"
   ]
  },
  {
   "cell_type": "markdown",
   "id": "12c2a9c8",
   "metadata": {},
   "source": [
    "¿Cuántas variables categóricas hay en el dataset? Indica las categorías.\n"
   ]
  },
  {
   "cell_type": "markdown",
   "id": "22955251",
   "metadata": {},
   "source": [
    "Según lo informado en el origen de los datos y lo que se puede observar, tenemos cómo datos categóricos los atributos binarios de las áreas silvestres y tipos de suelo. Ademas de la variable tipo de cubierta forestal que clasifica en 7 tipos distintos.\n",
    "\n",
    "Hay un total de 45 variables categóricas:                        \n",
    "*   Soil_Type1                               \n",
    "*   Soil_Type2                               \n",
    "*   Soil_Type3                               \n",
    "*   Soil_Type4                               \n",
    "*   Soil_Type5                               \n",
    "*   Soil_Type6                               \n",
    "*   Soil_Type7                               \n",
    "*   Soil_Type8                               \n",
    "*   Soil_Type9                               \n",
    "*   Soil_Type10                              \n",
    "*   Soil_Type11                              \n",
    "*   Soil_Type12                              \n",
    "*   Soil_Type13                              \n",
    "*   Soil_Type14                              \n",
    "*   Soil_Type15                              \n",
    "*   Soil_Type16                              \n",
    "*   Soil_Type17                              \n",
    "*   Soil_Type18                              \n",
    "*   Soil_Type19                              \n",
    "*   Soil_Type20                              \n",
    "*   Soil_Type21                              \n",
    "*   Soil_Type22                              \n",
    "*   Soil_Type23                              \n",
    "*   Soil_Type24                              \n",
    "*   Soil_Type25                              \n",
    "*   Soil_Type26                              \n",
    "*   Soil_Type27                              \n",
    "*   Soil_Type28                              \n",
    "*   Soil_Type29                              \n",
    "*   Soil_Type30                              \n",
    "*   Soil_Type31                              \n",
    "*   Soil_Type32                              \n",
    "*   Soil_Type33                              \n",
    "*   Soil_Type34                              \n",
    "*   Soil_Type35                              \n",
    "*   Soil_Type36                              \n",
    "*   Soil_Type37                              \n",
    "*   Soil_Type38                              \n",
    "*   Soil_Type39                              \n",
    "*   Soil_Type40  \n",
    "*   Wilderness_Area1                             \n",
    "*   Wilderness_Area2                         \n",
    "*   Wilderness_Area3                         \n",
    "*   Wilderness_Area4                         \n",
    "*   Cover_Type                               "
   ]
  },
  {
   "cell_type": "markdown",
   "id": "9b259f7a",
   "metadata": {},
   "source": [
    "¿Cómo es la distribución de etiquetas de clase en el dataset? Con estos datos, ¿podríamos decir que el dataset está balanceado?"
   ]
  },
  {
   "cell_type": "code",
   "execution_count": 5,
   "id": "5d2626a9",
   "metadata": {},
   "outputs": [
    {
     "name": "stdout",
     "output_type": "stream",
     "text": [
      "Cover_Type\n",
      "2    283301\n",
      "1    211840\n",
      "3     35754\n",
      "7     20510\n",
      "6     17367\n",
      "5      9493\n",
      "4      2747\n",
      "Name: count, dtype: int64\n"
     ]
    },
    {
     "data": {
      "image/png": "[encoded data removed]",
      "text/plain": [
       "<Figure size 640x480 with 1 Axes>"
      ]
     },
     "metadata": {},
     "output_type": "display_data"
    }
   ],
   "source": [
    "# Mostrar la distribución de etiquetas de clase\n",
    "print(df['Cover_Type'].value_counts())\n",
    "\n",
    "# Graficar la distribución de etiquetas de clase\n",
    "df['Cover_Type'].value_counts().plot(kind='bar')\n",
    "plt.xlabel('Categorías')\n",
    "plt.ylabel('Frecuencia')\n",
    "plt.title('Distribución de Etiquetas de Clase')\n",
    "plt.show()"
   ]
  },
  {
   "cell_type": "code",
   "execution_count": 6,
   "id": "2ad73908",
   "metadata": {},
   "outputs": [
    {
     "data": {
      "image/png": "[encoded data removed]",
      "text/plain": [
       "<Figure size 640x480 with 1 Axes>"
      ]
     },
     "metadata": {},
     "output_type": "display_data"
    }
   ],
   "source": [
    "df['Cover_Type'].value_counts().plot(kind='pie',autopct='%.2f',)\n",
    "plt.show()"
   ]
  },
  {
   "cell_type": "markdown",
   "id": "f0b45007",
   "metadata": {},
   "source": [
    "####   El dataset no está balanceado, las clases 2 y 1 están sobrerrepresentadas y las clases 4, 5, 6, y 7 están subrepresentadas.\n",
    "\n",
    "Nota: El desbalanceo puede llevar a un modelo que este sesgado hacia las clases más frecuentes."
   ]
  },
  {
   "cell_type": "markdown",
   "id": "f5aa4dd7",
   "metadata": {},
   "source": [
    "¿Existen valores nulos o perdidos en el dataset?"
   ]
  },
  {
   "cell_type": "code",
   "execution_count": 7,
   "id": "39995616",
   "metadata": {},
   "outputs": [
    {
     "data": {
      "text/plain": [
       "Elevation                             0\n",
       "Aspect                                0\n",
       "Slope                                 0\n",
       "Horizontal_Distance_To_Hydrology      0\n",
       "Vertical_Distance_To_Hydrology        0\n",
       "Horizontal_Distance_To_Roadways       0\n",
       "Hillshade_9am                         0\n",
       "Hillshade_Noon                        0\n",
       "Hillshade_3pm                         0\n",
       "Horizontal_Distance_To_Fire_Points    0\n",
       "Wilderness_Area1                      0\n",
       "Soil_Type1                            0\n",
       "Soil_Type2                            0\n",
       "Soil_Type3                            0\n",
       "Soil_Type4                            0\n",
       "Soil_Type5                            0\n",
       "Soil_Type6                            0\n",
       "Soil_Type7                            0\n",
       "Soil_Type8                            0\n",
       "Soil_Type9                            0\n",
       "Soil_Type10                           0\n",
       "Soil_Type11                           0\n",
       "Soil_Type12                           0\n",
       "Soil_Type13                           0\n",
       "Soil_Type14                           0\n",
       "Soil_Type15                           0\n",
       "Soil_Type16                           0\n",
       "Soil_Type17                           0\n",
       "Soil_Type18                           0\n",
       "Soil_Type19                           0\n",
       "Soil_Type20                           0\n",
       "Soil_Type21                           0\n",
       "Soil_Type22                           0\n",
       "Soil_Type23                           0\n",
       "Soil_Type24                           0\n",
       "Soil_Type25                           0\n",
       "Soil_Type26                           0\n",
       "Soil_Type27                           0\n",
       "Soil_Type28                           0\n",
       "Soil_Type29                           0\n",
       "Soil_Type30                           0\n",
       "Soil_Type31                           0\n",
       "Soil_Type32                           0\n",
       "Soil_Type33                           0\n",
       "Soil_Type34                           0\n",
       "Soil_Type35                           0\n",
       "Soil_Type36                           0\n",
       "Soil_Type37                           0\n",
       "Soil_Type38                           0\n",
       "Soil_Type39                           0\n",
       "Soil_Type40                           0\n",
       "Wilderness_Area2                      0\n",
       "Wilderness_Area3                      0\n",
       "Wilderness_Area4                      0\n",
       "Cover_Type                            0\n",
       "dtype: int64"
      ]
     },
     "execution_count": 7,
     "metadata": {},
     "output_type": "execute_result"
    }
   ],
   "source": [
    "df.isnull().sum()"
   ]
  },
  {
   "cell_type": "code",
   "execution_count": 8,
   "id": "090f3152",
   "metadata": {},
   "outputs": [
    {
     "name": "stdout",
     "output_type": "stream",
     "text": [
      "Elevation                                  0\n",
      "Aspect                                  4914\n",
      "Slope                                    656\n",
      "Horizontal_Distance_To_Hydrology       24603\n",
      "Vertical_Distance_To_Hydrology         38665\n",
      "Horizontal_Distance_To_Roadways          124\n",
      "Hillshade_9am                             13\n",
      "Hillshade_Noon                             5\n",
      "Hillshade_3pm                           1338\n",
      "Horizontal_Distance_To_Fire_Points        51\n",
      "Wilderness_Area1                      320216\n",
      "Soil_Type1                            577981\n",
      "Soil_Type2                            573487\n",
      "Soil_Type3                            576189\n",
      "Soil_Type4                            568616\n",
      "Soil_Type5                            579415\n",
      "Soil_Type6                            574437\n",
      "Soil_Type7                            580907\n",
      "Soil_Type8                            580833\n",
      "Soil_Type9                            579865\n",
      "Soil_Type10                           548378\n",
      "Soil_Type11                           568602\n",
      "Soil_Type12                           551041\n",
      "Soil_Type13                           563581\n",
      "Soil_Type14                           580413\n",
      "Soil_Type15                           581009\n",
      "Soil_Type16                           578167\n",
      "Soil_Type17                           577590\n",
      "Soil_Type18                           579113\n",
      "Soil_Type19                           576991\n",
      "Soil_Type20                           571753\n",
      "Soil_Type21                           580174\n",
      "Soil_Type22                           547639\n",
      "Soil_Type23                           523260\n",
      "Soil_Type24                           559734\n",
      "Soil_Type25                           580538\n",
      "Soil_Type26                           578423\n",
      "Soil_Type27                           579926\n",
      "Soil_Type28                           580066\n",
      "Soil_Type29                           465765\n",
      "Soil_Type30                           550842\n",
      "Soil_Type31                           555346\n",
      "Soil_Type32                           528493\n",
      "Soil_Type33                           535858\n",
      "Soil_Type34                           579401\n",
      "Soil_Type35                           579121\n",
      "Soil_Type36                           580893\n",
      "Soil_Type37                           580714\n",
      "Soil_Type38                           565439\n",
      "Soil_Type39                           567206\n",
      "Soil_Type40                           572262\n",
      "Wilderness_Area2                      551128\n",
      "Wilderness_Area3                      327648\n",
      "Wilderness_Area4                      544044\n",
      "Cover_Type                                 0\n",
      "dtype: int64\n"
     ]
    }
   ],
   "source": [
    "# conteo de ceros por columna\n",
    "print((df == 0).sum())"
   ]
  },
  {
   "cell_type": "markdown",
   "id": "150e0efd",
   "metadata": {},
   "source": [
    "No hay valores nulos en el dataset. Respecto a los datos perdidos no esta anotado ningún valor asociado a esta perdida en el origen de los datos y no hay valores que reflejen un comportamiento similar en los datos.\n"
   ]
  },
  {
   "cell_type": "markdown",
   "id": "625ba0c3",
   "metadata": {},
   "source": [
    "¿Existe alguna variable altamente correlacionada con la variable de clase?"
   ]
  },
  {
   "cell_type": "markdown",
   "id": "f2e38d4e",
   "metadata": {},
   "source": [
    "_Nota: Para responder a esto, como es muy dificil ver la matriz de correlaciones, recomendamosfiltar aquellas correlaciones superiores al 0.80 con la variable de clase."
   ]
  },
  {
   "cell_type": "code",
   "execution_count": 10,
   "id": "1d61da96",
   "metadata": {},
   "outputs": [
    {
     "name": "stdout",
     "output_type": "stream",
     "text": [
      "Wilderness_Area4                      0.323200\n",
      "Elevation                             0.269554\n",
      "Soil_Type10                           0.243876\n",
      "Wilderness_Area1                      0.203913\n",
      "Soil_Type38                           0.160170\n",
      "Soil_Type39                           0.155668\n",
      "Horizontal_Distance_To_Roadways       0.153450\n",
      "Slope                                 0.148285\n",
      "Soil_Type22                           0.141746\n",
      "Soil_Type23                           0.135055\n",
      "Soil_Type40                           0.128351\n",
      "Soil_Type29                           0.124933\n",
      "Soil_Type2                            0.118135\n",
      "Soil_Type6                            0.112958\n",
      "Horizontal_Distance_To_Fire_Points    0.108936\n",
      "Soil_Type4                            0.099672\n",
      "Hillshade_Noon                        0.096426\n",
      "Soil_Type1                            0.090828\n",
      "Soil_Type17                           0.090582\n",
      "Vertical_Distance_To_Hydrology        0.081664\n",
      "Soil_Type35                           0.080315\n",
      "Soil_Type37                           0.080271\n",
      "Soil_Type5                            0.077890\n",
      "Soil_Type32                           0.075562\n",
      "Soil_Type24                           0.068746\n",
      "Soil_Type3                            0.068064\n",
      "Wilderness_Area3                      0.066846\n",
      "Soil_Type14                           0.065562\n",
      "Soil_Type31                           0.065347\n",
      "Soil_Type33                           0.062502\n",
      "Hillshade_3pm                         0.048290\n",
      "Wilderness_Area2                      0.048059\n",
      "Soil_Type19                           0.036452\n",
      "Hillshade_9am                         0.035415\n",
      "Soil_Type11                           0.035379\n",
      "Soil_Type20                           0.028665\n",
      "Soil_Type21                           0.025400\n",
      "Soil_Type36                           0.025397\n",
      "Soil_Type13                           0.024404\n",
      "Soil_Type12                           0.023601\n",
      "Horizontal_Distance_To_Hydrology      0.020317\n",
      "Aspect                                0.017080\n",
      "Soil_Type27                           0.014407\n",
      "Soil_Type30                           0.010436\n",
      "Soil_Type16                           0.009844\n",
      "Soil_Type18                           0.007390\n",
      "Soil_Type25                           0.006449\n",
      "Soil_Type15                           0.006425\n",
      "Soil_Type9                            0.006110\n",
      "Soil_Type34                           0.004643\n",
      "Soil_Type8                            0.003667\n",
      "Soil_Type28                           0.001702\n",
      "Soil_Type7                            0.000496\n",
      "Soil_Type26                           0.000375\n",
      "Name: Cover_Type, dtype: float64\n"
     ]
    }
   ],
   "source": [
    "\n",
    "correlation_matrix = df.corr()\n",
    "\n",
    "# correlaciones de 'Cover_Type' \n",
    "target_correlations = correlation_matrix['Cover_Type']\n",
    "\n",
    "# Ordenamos las correlaciones por su valor absoluto en orden descendente\n",
    "sorted_correlations = target_correlations.abs().sort_values(ascending=False)\n",
    "\n",
    "# Mostrar las correlaciones más significativas \n",
    "print(sorted_correlations[1:])"
   ]
  },
  {
   "cell_type": "markdown",
   "id": "81d392df",
   "metadata": {},
   "source": [
    "No existe una variable altamente correlacionadas, dado que el atributo con la correlación más alta con la variable objetivo es de 0,3232 (Wilderness_Area4) que es considerada una correlación moderada. Esta correlación no seria la forma de calcular correctamente dado que la variable objetivo es de tipo categórica multiclase pero en el punto siguiente se utiliza las estadísticas spearman donde si podemos ver que hay una correlación con el mismo campo pero del 0,3759 que es una correlación algo mejor y representativamente más correcta. **Donde podemos ver que la variable más correlacionada es Elevation con una correlación negativa de -0.4911 que tampoco se puede considerar una correlación alta**"
   ]
  },
  {
   "cell_type": "markdown",
   "id": "88ed3c79",
   "metadata": {},
   "source": [
    "¿Qué tres variables del dataset consideras que pueden influenciar más en la clasificación de los datos?¿Qué pruebas harías para comprobar tus hipótesis? Hazlas."
   ]
  },
  {
   "cell_type": "code",
   "execution_count": 87,
   "id": "0b3bd3fa",
   "metadata": {},
   "outputs": [
    {
     "name": "stdout",
     "output_type": "stream",
     "text": [
      "Correlation with 'Cover_Type' for Wilderness_Area4: 0.3759990464283222\n",
      "Correlation with 'Cover_Type' for Soil_Type10: 0.268381493805451\n",
      "Correlation with 'Cover_Type' for Soil_Type4: 0.17192518259175235\n",
      "Correlation with 'Cover_Type' for Soil_Type2: 0.15868469909557228\n",
      "Correlation with 'Cover_Type' for Slope: 0.15107849350928662\n",
      "Correlation with 'Cover_Type' for Soil_Type6: 0.14606853464932634\n",
      "Correlation with 'Cover_Type' for Soil_Type3: 0.11269300716829772\n",
      "Correlation with 'Cover_Type' for Soil_Type1: 0.11019936301922689\n",
      "Correlation with 'Cover_Type' for Vertical_Distance_To_Hydrology: 0.09568253433742387\n",
      "Correlation with 'Cover_Type' for Soil_Type17: 0.08404648068362645\n",
      "Correlation with 'Cover_Type' for Soil_Type11: 0.0813307615890652\n",
      "Correlation with 'Cover_Type' for Soil_Type5: 0.08124833386756608\n",
      "Correlation with 'Cover_Type' for Soil_Type12: 0.06198110125482033\n",
      "Correlation with 'Cover_Type' for Soil_Type13: 0.060995697506045936\n",
      "Correlation with 'Cover_Type' for Soil_Type14: 0.05212856367410946\n",
      "Correlation with 'Cover_Type' for Wilderness_Area3: 0.044961076079275096\n",
      "Correlation with 'Cover_Type' for Soil_Type37: 0.04141521918030579\n",
      "Correlation with 'Cover_Type' for Soil_Type18: 0.026303073720525365\n",
      "Correlation with 'Cover_Type' for Aspect: 0.025320091970269024\n",
      "Correlation with 'Cover_Type' for Soil_Type30: 0.022313045494342244\n",
      "Correlation with 'Cover_Type' for Soil_Type34: 0.020487682141088558\n",
      "Correlation with 'Cover_Type' for Soil_Type26: 0.01979272669329188\n",
      "Correlation with 'Cover_Type' for Soil_Type35: 0.018645497022489046\n",
      "Correlation with 'Cover_Type' for Soil_Type16: 0.017320938250469823\n",
      "Correlation with 'Cover_Type' for Soil_Type28: 0.014246331677247358\n",
      "Correlation with 'Cover_Type' for Soil_Type36: 0.013901235880583446\n",
      "Correlation with 'Cover_Type' for Hillshade_9am: 0.012894008464159432\n",
      "Correlation with 'Cover_Type' for Soil_Type40: 0.01260795710796244\n",
      "Correlation with 'Cover_Type' for Soil_Type38: 0.0101505067153636\n",
      "Correlation with 'Cover_Type' for Soil_Type39: 0.009400592432456608\n",
      "Correlation with 'Cover_Type' for Soil_Type9: 0.008191739223539425\n",
      "Correlation with 'Cover_Type' for Soil_Type7: 0.005524091200107111\n",
      "Correlation with 'Cover_Type' for Soil_Type15: 0.003873603741763739\n",
      "Correlation with 'Cover_Type' for Soil_Type8: 0.000402228619106132\n",
      "Correlation with 'Cover_Type' for Soil_Type25: -0.00042930753464356046\n",
      "Correlation with 'Cover_Type' for Soil_Type27: -0.019339047870667717\n",
      "Correlation with 'Cover_Type' for Soil_Type20: -0.024333372361425493\n",
      "Correlation with 'Cover_Type' for Horizontal_Distance_To_Hydrology: -0.02769949099748526\n",
      "Correlation with 'Cover_Type' for Hillshade_Noon: -0.03429823881573955\n",
      "Correlation with 'Cover_Type' for Hillshade_3pm: -0.036392688475650345\n",
      "Correlation with 'Cover_Type' for Soil_Type21: -0.0424383605537984\n",
      "Correlation with 'Cover_Type' for Soil_Type19: -0.04645054812646424\n",
      "Correlation with 'Cover_Type' for Soil_Type33: -0.05482419051998578\n",
      "Correlation with 'Cover_Type' for Soil_Type32: -0.06483643796359231\n",
      "Correlation with 'Cover_Type' for Soil_Type31: -0.0657071502098151\n",
      "Correlation with 'Cover_Type' for Soil_Type29: -0.0769518411363793\n",
      "Correlation with 'Cover_Type' for Soil_Type24: -0.08004405375448871\n",
      "Correlation with 'Cover_Type' for Wilderness_Area2: -0.11288658856650398\n",
      "Correlation with 'Cover_Type' for Horizontal_Distance_To_Fire_Points: -0.13692421876908228\n",
      "Correlation with 'Cover_Type' for Wilderness_Area1: -0.17921557801721105\n",
      "Correlation with 'Cover_Type' for Soil_Type23: -0.18301897105209686\n",
      "Correlation with 'Cover_Type' for Soil_Type22: -0.2050335712361238\n",
      "Correlation with 'Cover_Type' for Horizontal_Distance_To_Roadways: -0.2218885411202182\n",
      "Correlation with 'Cover_Type' for Elevation: -0.4911774744422322\n"
     ]
    }
   ],
   "source": [
    "from scipy.stats import spearmanr\n",
    "\n",
    "# Calcula la correlación de Spearman entre 'Cover_Type' y otras variables\n",
    "correlations = {}\n",
    "for column in df.columns:\n",
    "    if column != 'Cover_Type':\n",
    "        spearman_corr, p_value = spearmanr(df['Cover_Type'], df[column])\n",
    "        correlations[column] = spearman_corr\n",
    "\n",
    "# Ordena las correlaciones en orden descendente\n",
    "sorted_correlations = sorted(correlations.items(), key=lambda item: item[1], reverse=True)\n",
    "\n",
    "# Muestra las correlaciones ordenadas\n",
    "for column, correlation in sorted_correlations:\n",
    "    print(f\"Correlation with 'Cover_Type' for {column}: {correlation}\")\n"
   ]
  },
  {
   "cell_type": "code",
   "execution_count": 11,
   "id": "3749f439",
   "metadata": {},
   "outputs": [
    {
     "name": "stdout",
     "output_type": "stream",
     "text": [
      "              precision    recall  f1-score   support\n",
      "\n",
      "           1       0.65      0.69      0.67     63556\n",
      "           2       0.71      0.76      0.73     85078\n",
      "           3       0.62      0.59      0.61     10638\n",
      "           4       0.30      0.06      0.10       795\n",
      "           5       0.00      0.00      0.00      2941\n",
      "           6       0.45      0.20      0.27      5227\n",
      "           7       0.54      0.25      0.34      6069\n",
      "\n",
      "    accuracy                           0.67    174304\n",
      "   macro avg       0.47      0.36      0.39    174304\n",
      "weighted avg       0.65      0.67      0.66    174304\n",
      "\n",
      "Accuracy: 0.6724515788507436\n",
      "Elevation           0.788849\n",
      "Wilderness_Area4    0.166744\n",
      "Soil_Type10         0.044407\n",
      "dtype: float64\n"
     ]
    },
    {
     "name": "stderr",
     "output_type": "stream",
     "text": [
      "c:\\ProgramData\\anaconda3\\Lib\\site-packages\\sklearn\\metrics\\_classification.py:1344: UndefinedMetricWarning: Precision and F-score are ill-defined and being set to 0.0 in labels with no predicted samples. Use `zero_division` parameter to control this behavior.\n",
      "  _warn_prf(average, modifier, msg_start, len(result))\n",
      "c:\\ProgramData\\anaconda3\\Lib\\site-packages\\sklearn\\metrics\\_classification.py:1344: UndefinedMetricWarning: Precision and F-score are ill-defined and being set to 0.0 in labels with no predicted samples. Use `zero_division` parameter to control this behavior.\n",
      "  _warn_prf(average, modifier, msg_start, len(result))\n",
      "c:\\ProgramData\\anaconda3\\Lib\\site-packages\\sklearn\\metrics\\_classification.py:1344: UndefinedMetricWarning: Precision and F-score are ill-defined and being set to 0.0 in labels with no predicted samples. Use `zero_division` parameter to control this behavior.\n",
      "  _warn_prf(average, modifier, msg_start, len(result))\n"
     ]
    }
   ],
   "source": [
    "from sklearn.model_selection import train_test_split\n",
    "from sklearn.ensemble import RandomForestClassifier\n",
    "from sklearn.metrics import classification_report, accuracy_score\n",
    "\n",
    "X = df[['Wilderness_Area4', 'Elevation', 'Soil_Type10']]\n",
    "y = df['Cover_Type']\n",
    "\n",
    "\n",
    "X_train, X_test, y_train, y_test = train_test_split(X, y, test_size=0.3, random_state=42)\n",
    "\n",
    "\n",
    "clf = RandomForestClassifier(random_state=42)\n",
    "clf.fit(X_train, y_train)\n",
    "\n",
    "\n",
    "y_pred = clf.predict(X_test)\n",
    "\n",
    "\n",
    "print(classification_report(y_test, y_pred))\n",
    "print(f'Accuracy: {accuracy_score(y_test, y_pred)}')\n",
    "\n",
    "# Importancia de las características\n",
    "feature_importances = pd.Series(clf.feature_importances_, index=X.columns).sort_values(ascending=False)\n",
    "print(feature_importances)"
   ]
  },
  {
   "cell_type": "code",
   "execution_count": null,
   "id": "015a8b1c",
   "metadata": {},
   "outputs": [],
   "source": []
  },
  {
   "cell_type": "markdown",
   "id": "ff908697",
   "metadata": {},
   "source": [
    "Cómo hipótesis daría que las variables independientes más correlacionadas (Que coincide con los valores más altas arrojados con spearman) con la variable objetivo son las que más influencia tienen a la hora de clasificar los datos. Para comprobar si esto es cierto podemos usar una de las particularidades del modelo Random Forest Classifier que se trata de la función feature_importance que nos aporta el grado de importancia de los atributos para la clasificación realizada.\n",
    "\n",
    "Resultados:\n",
    "*   Accuracy: 0.6724515788507436\n",
    "*   Elevation           0.788849\n",
    "*   Wilderness_Area4    0.166744\n",
    "*   Soil_Type10         0.044407\n",
    "\n",
    "\n",
    "\n",
    "\n",
    "Conclusión:\n",
    "\n",
    "Una precisión del 67% no es muy alta, pero cómo dada la distribución de los datos no esta balanceada esta puede ser compleja y que requiera de ajustar mejor los hiperparámetros, que no se trata del objetivo de esta hipótesis.\n",
    "\n",
    "La hipótesis de que Elevation, Wilderness_Area4, y Soil_Type10 son las tres variables más influyentes puede considerarse incompleta. Elevation es claramente importante, pero las otras dos variables no parecen ser las más influyentes en comparación. Esto sugiere que podría haber otras variables en el dataset con mayor influencia que no fueron identificadas inicialmente.\n",
    "\n",
    "<b>¿Cómo se podría obtener las tres feature que más influencian a la variable objetivo?</b>\n",
    "\n",
    "Calcular la importancia de todas las variables utilizando el modelo de bosque aleatorio y seleccionar las tres más importantes."
   ]
  },
  {
   "cell_type": "markdown",
   "id": "bf6452c9",
   "metadata": {},
   "source": [
    "##  *Antes de empezar las clasificación se reduce el número de registros donde la frecuencia de cada clase sea la misma que la clase con la frecuencia minima, para así reducir el coste computacional.*\n",
    "\n",
    "<h3>Pasos seguidos</h3>\n",
    "Primero, calcula la frecuencia minima entre las clases en la columna 'Cover_Type'. Luego, itera sobre cada clase y selecciona una muestra de tamaño equivalente a la cantidad de registros de la clase con la frecuencia minima obtenida en el primer punto. Esto garantiza que la muestra final tenga una distribución equilibrada de las clases. Finalmente, reordena aleatoriamente la el nuevo dataset. Nº de registros: 19229"
   ]
  },
  {
   "cell_type": "code",
   "execution_count": 12,
   "id": "37f80aec",
   "metadata": {},
   "outputs": [
    {
     "name": "stdout",
     "output_type": "stream",
     "text": [
      "Cover_Type\n",
      "2    2747\n",
      "6    2747\n",
      "4    2747\n",
      "3    2747\n",
      "5    2747\n",
      "1    2747\n",
      "7    2747\n",
      "Name: count, dtype: int64\n"
     ]
    }
   ],
   "source": [
    "# Obtener la proporción de clases\n",
    "clase_counts = df['Cover_Type'].value_counts()\n",
    "\n",
    "# Calcular la frecuencia mínima de clase\n",
    "min_count = clase_counts.min()\n",
    "\n",
    "# Definir el número total de muestras\n",
    "n = min_count * len(clase_counts)\n",
    "\n",
    "sampled_data = pd.DataFrame()\n",
    "\n",
    "# Iterar sobre cada clase para seleccionar una muestra equilibrada\n",
    "for clase in clase_counts.index:\n",
    "    # Seleccionar min_count registros de cada clase\n",
    "    clase_data = df[df['Cover_Type'] == clase].sample(min_count, random_state=42)\n",
    "    sampled_data = pd.concat([sampled_data, clase_data], ignore_index=True)\n",
    "\n",
    "sampled_data = sampled_data.sample(frac=1, random_state=42)\n",
    "\n",
    "print(sampled_data['Cover_Type'].value_counts())\n",
    "\n",
    "\n"
   ]
  },
  {
   "cell_type": "code",
   "execution_count": 13,
   "id": "f345018f",
   "metadata": {},
   "outputs": [
    {
     "data": {
      "image/png": "[encoded data removed]",
      "text/plain": [
       "<Figure size 640x480 with 1 Axes>"
      ]
     },
     "metadata": {},
     "output_type": "display_data"
    }
   ],
   "source": [
    "#Comparativa mantenienod las mismas proporciones\n",
    "sampled_data['Cover_Type'].value_counts().plot(kind='pie',autopct='%.2f',)\n",
    "plt.show()"
   ]
  },
  {
   "cell_type": "code",
   "execution_count": 65,
   "id": "c62fb07d",
   "metadata": {},
   "outputs": [],
   "source": [
    "# Separamos los datos en los conjuntos de entrenamiento y test.\n",
    "from sklearn.model_selection import train_test_split\n",
    "\n",
    "X, y = sampled_data.drop('Cover_Type',axis=1),sampled_data['Cover_Type']\n",
    "\n",
    "X_train,X_test,y_train,y_test = train_test_split(X, y, test_size=0.2, random_state=1)"
   ]
  },
  {
   "cell_type": "markdown",
   "id": "253d38fb",
   "metadata": {},
   "source": [
    "### Clasificación"
   ]
  },
  {
   "cell_type": "markdown",
   "id": "18aa2ef3",
   "metadata": {},
   "source": [
    "**Random Forest**\n",
    "\n",
    "En esta parte de la actividad hay que utilizar la librería https://scikit-learn.org/stable/modules/generated/sklearn.ensemble.RandomForestClassifier.html para resolver el problema de clasificación.\n",
    "\n",
    "El algortimo de RF necesitar ajustar una serie de hiperparámetros para realizar las clasificaciones. La implementación de sklearn nos da mucha flexibilidad para nuestros modelos. En general, para los problemas más comunes de clasificación, nos tenemos que preocupar de los siguientes hiperparámetros:\n",
    "- n_estimators\n",
    "- criterion\n",
    "- max_depth\n",
    "- min_samples_split\n",
    "- min_samples_leaf\n",
    "- max_features\n",
    "\n",
    "Indica qué son cada uno de estos hiperparámetros"
   ]
  },
  {
   "cell_type": "markdown",
   "id": "bd1bad91",
   "metadata": {},
   "source": [
    "*    **n_estimators:** \n",
    "\n",
    "Permite definir el número de arboles que se generan, por defecto 100.\n",
    "*    **criterion:**\n",
    "\n",
    "Permite definir la función que se emplea para evaluar la calidad de división en cada nodo del árbol de decisión. Admite 3 opciones: (gini, entropy y log_loss) por defecto gini.\n",
    "*    **max_depth**: \n",
    "\n",
    "Define el nivel máximo de profundidad que se expanden los nodos de los árboles. Si el parámetro es None (Por defecto es None), entonces los nodos se expanden asta que los nodos sean puros o estén por debajo del umbral de muestras mínimas de división (min_samples_split)\n",
    "*    **min_samples_split**:\n",
    "\n",
    "El número mínimo de muestras necesarias para dividir un nodo interno (Por defecto 2). Si es un entero (int), representa el número mínimo de muestras. Si es un flotante (float), representa una fracción y el mínimo número de muestras para cada división es (min_samples_split * n_samples).\n",
    "*    **min_samples_leaf**: \n",
    "\n",
    "Define el número mínimo de muestras recogidas en un nodo para que se considere una Hoja (Por defecto 1). Si es un entero (int), representa el número mínimo de muestras. Si es un flotante (float), representa una fracción y el mínimo número de muestras para cada división es (min_samples_leaf * n_samples).\n",
    "*    **max_features**:\n",
    "\n",
    "Define el número de características a tener en cuenta al buscar la mejor división. Si es un entero, se consideran max_features características en cada división. Si es un flotante, se considera una fracción, específicamente max(1, int(max_features * n_features_in_)) características. Si es \"sqrt\", se considera la raíz cuadrada del número total de características; si es \"log2\", se considera el logaritmo en base 2 del número total de características. Si es None, se consideran todas las características disponibles (n_features)."
   ]
  },
  {
   "cell_type": "markdown",
   "id": "4fe96625",
   "metadata": {},
   "source": [
    "Además de los hiperparámetros que acabas de descubrir, la implementación de sklearn tiene el hiperparámetro _class_weight_\n",
    "\n",
    "¿Qué indica ese parámetro? ¿Para qué puede ser útil?"
   ]
  },
  {
   "cell_type": "markdown",
   "id": "1b9ca14f",
   "metadata": {},
   "source": [
    "Permite añadir peso a las clases que queremos clasificar (Por defecto None: Todas las clases tienen peso 1). Esto puede ser de utilidad para aquellas variables objetivo que muestran un desbalanceo en la distribución de etiquetas de la clase, añadiendo mayor peso a aquellas clases con menor número de registros.\n",
    "\n",
    "*   Permite administrar por parámetro la lista de pesos de las clases.\n",
    "*   Permite definir cómo se balancea:\n",
    "    *   El modo \"balanced\" ajusta automáticamente los pesos inversamente proporcionales a las frecuencias de las clases en los datos de entrada cómo 𝑛_𝑠𝑎𝑚𝑝𝑙𝑒𝑠/(𝑛_𝑐𝑙𝑎𝑠𝑠𝑒𝑠∗𝑛𝑝.𝑏𝑖𝑛𝑐𝑜𝑢𝑛𝑡(𝑦))n_samples/(n_classes∗np.bincount(y)). \n",
    "    *   El modo \"balanced_subsample\" es similar, pero los pesos se calculan en base a la muestra de bootstrap para cada árbol.\n",
    "    \n"
   ]
  },
  {
   "cell_type": "markdown",
   "id": "6addd9e7",
   "metadata": {},
   "source": [
    "Como primer paso para crear un clasificador de Random Forest hay que decidir si hay que hacer algún preprocesamiento adicional sobre los datos.\n",
    "¿Hace falta normalizar los datos?"
   ]
  },
  {
   "cell_type": "markdown",
   "id": "3b753ff5",
   "metadata": {},
   "source": [
    "En Random Forest no hace falta escalar ni normalizar los datos porque su algoritmo no lo necesita. Los árboles de decisión, que forman la base de Random Forest, crean divisiones usando umbrales específicos para cada característica, sin importar su escala. Esto significa que pueden manejar datos con rangos muy diferentes sin problemas. Además, cada característica se trata por separado, por lo que no importa si tienen distribuciones distintas. Por eso, se puede usar Random Forest sin preocuparte por ajustar las escalas de tus datos.\n"
   ]
  },
  {
   "cell_type": "markdown",
   "id": "e3465ab1",
   "metadata": {},
   "source": [
    "Entrena un conjunto de modelos de Random Forest que utilicen todas las variables del dataset, con 5, 10, 20, 50 y 100 árboles. El criterio para realizar las particiones debe ser Gini-index, la profundidad máxima de los árboles debe ser 10, el número mínimo de ejemplos para realizar una partición debe ser 10, el número mínimo de ejemplos para considerarlo una hoja debe ser 2, y el número máximo de características deben ser todas.\n",
    "\n",
    "_Nota: el entrenamiento puede tardar entre 3 y 15 minutos en función de las características del equipo._"
   ]
  },
  {
   "cell_type": "code",
   "execution_count": 66,
   "id": "8179eb72",
   "metadata": {},
   "outputs": [],
   "source": [
    "# numero de árboles: 5, 10, 20, 50 y 100\n",
    "from sklearn.ensemble import RandomForestClassifier\n",
    "\n",
    "n_arboles = {5, 10, 20, 50 , 100}\n",
    "particion = 'gini'\n",
    "max_depth = 10\n",
    "min_samples_split = 10\n",
    "min_samples_leaf = 2\n",
    "max_feature = None\n",
    "\n",
    "randomForest = [RandomForestClassifier(n_estimators = i, criterion= particion,\n",
    "                                       max_depth = max_depth, min_samples_split = min_samples_split,\n",
    "                                      min_samples_leaf = min_samples_leaf, max_features =None) for i in n_arboles]\n"
   ]
  },
  {
   "cell_type": "code",
   "execution_count": 67,
   "id": "96240675",
   "metadata": {},
   "outputs": [
    {
     "name": "stdout",
     "output_type": "stream",
     "text": [
      "Modelo con 50 árboles entrenado.\n",
      "Modelo con 100 árboles entrenado.\n",
      "Modelo con 5 árboles entrenado.\n",
      "Modelo con 20 árboles entrenado.\n",
      "Modelo con 10 árboles entrenado.\n"
     ]
    }
   ],
   "source": [
    "# PON AQUÍ TU CÓDIGO PARA EL ENTRENAMIENTO\n",
    "for rf in randomForest:\n",
    "    rf.fit(X_train, y_train)\n",
    "    print(f\"Modelo con {rf.n_estimators} árboles entrenado.\")"
   ]
  },
  {
   "cell_type": "markdown",
   "id": "5898797f",
   "metadata": {},
   "source": [
    "Visualiza la matriz de confusión del modelo entrenado con 20 árboles."
   ]
  },
  {
   "cell_type": "code",
   "execution_count": 68,
   "id": "2735dc23",
   "metadata": {},
   "outputs": [
    {
     "name": "stdout",
     "output_type": "stream",
     "text": [
      "[[387  99   0   0  21   0  33]\n",
      " [ 89 304  14   0 101  18   5]\n",
      " [  0   7 386  31  14 111   0]\n",
      " [  0   0  12 537   0   8   0]\n",
      " [  2  20  11   0 512  13   0]\n",
      " [  0   1  77  12  31 434   0]\n",
      " [ 39   0   0   0   1   0 516]]\n"
     ]
    }
   ],
   "source": [
    "from sklearn.metrics import classification_report, confusion_matrix\n",
    "\n",
    "rf_n_estimators_20 = randomForest[3]  \n",
    "\n",
    "y_pred = rf_n_estimators_20.predict(X_test)\n",
    "\n",
    "print(confusion_matrix(y_test,y_pred))"
   ]
  },
  {
   "cell_type": "markdown",
   "id": "72ebca94",
   "metadata": {},
   "source": [
    "¿Cuántos ejemplos ha clasificado correctamente?"
   ]
  },
  {
   "cell_type": "code",
   "execution_count": 69,
   "id": "e6696cf2",
   "metadata": {},
   "outputs": [
    {
     "name": "stdout",
     "output_type": "stream",
     "text": [
      "Número de ejemplos clasificados correctamente: 3076\n"
     ]
    }
   ],
   "source": [
    "print(f\"Número de ejemplos clasificados correctamente: {np.trace(confusion_matrix(y_test,y_pred))}\")"
   ]
  },
  {
   "cell_type": "markdown",
   "id": "fab58c9a",
   "metadata": {},
   "source": [
    "Número de ejemplos clasificados correctamente: 3076"
   ]
  },
  {
   "cell_type": "markdown",
   "id": "472169f2-e1bb-437f-954c-699dbe609341",
   "metadata": {},
   "source": [
    "Explica cómo funciona la clasificación para cada una de las 7 clases. ¿Hay alguna clase que clasifica mejor que otras?"
   ]
  },
  {
   "cell_type": "code",
   "execution_count": 70,
   "id": "1d32f651",
   "metadata": {},
   "outputs": [
    {
     "name": "stdout",
     "output_type": "stream",
     "text": [
      "              precision    recall  f1-score   support\n",
      "\n",
      "           1       0.75      0.72      0.73       540\n",
      "           2       0.71      0.57      0.63       531\n",
      "           3       0.77      0.70      0.74       549\n",
      "           4       0.93      0.96      0.94       557\n",
      "           5       0.75      0.92      0.83       558\n",
      "           6       0.74      0.78      0.76       555\n",
      "           7       0.93      0.93      0.93       556\n",
      "\n",
      "    accuracy                           0.80      3846\n",
      "   macro avg       0.80      0.80      0.79      3846\n",
      "weighted avg       0.80      0.80      0.80      3846\n",
      "\n"
     ]
    }
   ],
   "source": [
    "print(classification_report(y_test, y_pred))"
   ]
  },
  {
   "cell_type": "markdown",
   "id": "e4324aa6",
   "metadata": {},
   "source": [
    "Algunas clases tienen un mejor rendimiento que otras. Por ejemplo, las clases 4 y 7 tienen una precisión, recall y F1-score más altos en comparación con las demás clases, lo que indica que el modelo es mejor para clasificar esas clases. Por otro lado, las clases 2 tiene métricas más bajas, lo que sugiere que el modelo tiene más dificultades para clasificar esa clases. La precisión global del modelo es del 80%, lo que indica la capacidad general de clasificación del modelo en todas las clases es bastante bueno."
   ]
  },
  {
   "cell_type": "markdown",
   "id": "65c05b55",
   "metadata": {},
   "source": [
    "¿Cuál de todos los modelos que has entrenado obtiene mejores resultados de precisión para el conjunto de datos de test?\n",
    "\n",
    "_Nota: recuerda que es un modelo de clasificación multiclase y hay que analizar los datos para todas las clases._"
   ]
  },
  {
   "cell_type": "code",
   "execution_count": 71,
   "id": "417714b6",
   "metadata": {},
   "outputs": [
    {
     "name": "stdout",
     "output_type": "stream",
     "text": [
      "Modelo con 50 árboles: Precisión promedio 0.8027\n",
      "Modelo con 100 árboles: Precisión promedio 0.7996\n",
      "Modelo con 20 árboles: Precisión promedio 0.7970\n",
      "Modelo con 10 árboles: Precisión promedio 0.7920\n",
      "Modelo con 5 árboles: Precisión promedio 0.7825\n"
     ]
    }
   ],
   "source": [
    "from sklearn.metrics import precision_score\n",
    "\n",
    "# Precisión promedio de cada modelo\n",
    "mean_precision = []\n",
    "\n",
    "# Evaluar los modelos\n",
    "for i, rf in enumerate(randomForest):\n",
    "    y_pred = rf.predict(X_test)\n",
    "    precision = precision_score(y_test, y_pred, average=None)\n",
    "    mean_precision.append((i, precision.mean()))\n",
    "\n",
    "# Ordenar los modelos por precisión promedio\n",
    "mean_precision.sort(key=lambda x: x[1], reverse=True)\n",
    "\n",
    "# Mostrar los resultados\n",
    "for i, mean_prec in mean_precision:\n",
    "    print(f\"Modelo con {randomForest[i].n_estimators} árboles: Precisión promedio {mean_prec:.4f}\")\n"
   ]
  },
  {
   "cell_type": "markdown",
   "id": "6d9a26ef",
   "metadata": {},
   "source": [
    "Para determinar qué modelo obtiene los mejores resultados de precisión para el conjunto de datos de test, se calcula las precisiones de cada modelo para cada clase y calcular la media de estas precisiones para cada modelo dándonos los siguientes promedios por modelo:\n",
    "*   Modelo con 50 árboles: Precisión promedio 0.8027\n",
    "*   Modelo con 100 árboles: Precisión promedio 0.7996\n",
    "*   Modelo con 20 árboles: Precisión promedio 0.7970\n",
    "*   Modelo con 10 árboles: Precisión promedio 0.7920\n",
    "*   Modelo con 5 árboles: Precisión promedio 0.7825\n",
    "\n",
    "El modelo que arroja mejores resultados en términos de precision es el de **50 árboles con una precisión promedio del 80,27%**"
   ]
  },
  {
   "cell_type": "markdown",
   "id": "4b92ac9e",
   "metadata": {},
   "source": [
    "Selecciona el modelo que consideras que obtiene mejores resultados para los resultados de test. Explica por qué consideras que ese modelo es el que mejor resultados obtiene."
   ]
  },
  {
   "cell_type": "code",
   "execution_count": 21,
   "id": "63f0da6a",
   "metadata": {},
   "outputs": [
    {
     "name": "stdout",
     "output_type": "stream",
     "text": [
      "Exactitud del modelo con 50 árboles: 0.7677\n",
      "Exactitud del modelo con 100 árboles: 0.7664\n",
      "Exactitud del modelo con 5 árboles: 0.7342\n",
      "Exactitud del modelo con 20 árboles: 0.7646\n",
      "Exactitud del modelo con 10 árboles: 0.7483\n"
     ]
    }
   ],
   "source": [
    "# Evaluar los modelos\n",
    "for rf in randomForest:\n",
    "    score = rf.score(X_test, y_test)\n",
    "    print(f\"Exactitud del modelo con {rf.n_estimators} árboles: {score:.4f}\")"
   ]
  },
  {
   "cell_type": "markdown",
   "id": "1b444921",
   "metadata": {},
   "source": [
    "El modelo que mejores resultados arroja para los resultados de los test es el de **50 árboles** dado que tiene la precisión promedia de las clases más alta del 80,27% y también el el f1-score promedio más alto del 76,77% (Resultados muy cercanos al modelo de 100 árboles con pocas décimas de diferencia) "
   ]
  },
  {
   "cell_type": "markdown",
   "id": "c48515df",
   "metadata": {},
   "source": [
    "Visualiza la matriz de confusión de los datos de test de este modelo.\n",
    "- ¿Cuántos ejemplos ha clasificado bien el modelo?\n",
    "- ¿Cuántos ejemplos ha clasificado de manera errónea?\n"
   ]
  },
  {
   "cell_type": "code",
   "execution_count": 72,
   "id": "d7fa6b5d",
   "metadata": {},
   "outputs": [
    {
     "name": "stdout",
     "output_type": "stream",
     "text": [
      "[[399  87   0   0  24   0  30]\n",
      " [ 99 289  15   0 109  18   1]\n",
      " [  0   4 382  32  18 113   0]\n",
      " [  0   0  14 535   0   8   0]\n",
      " [  2  16  10   0 519  11   0]\n",
      " [  0   0  63  11  31 450   0]\n",
      " [ 38   0   0   0   1   0 517]]\n"
     ]
    }
   ],
   "source": [
    "rf_n_estimators_50 = randomForest[0]  \n",
    "\n",
    "y_pred = rf_n_estimators_50.predict(X_test)\n",
    "\n",
    "print(confusion_matrix(y_test,y_pred))"
   ]
  },
  {
   "cell_type": "code",
   "execution_count": 73,
   "id": "e4c1f718",
   "metadata": {},
   "outputs": [
    {
     "name": "stdout",
     "output_type": "stream",
     "text": [
      "Número de ejemplos clasificados correctamente: 3091\n",
      "Número de ejemplos clasificados incorrectamente: 755\n"
     ]
    }
   ],
   "source": [
    "print(f\"Número de ejemplos clasificados correctamente: {np.trace(confusion_matrix(y_test,y_pred))}\")\n",
    "\n",
    "print(f\"Número de ejemplos clasificados incorrectamente: {np.sum(confusion_matrix(y_test,y_pred)) - np.trace(confusion_matrix(y_test,y_pred))}\")"
   ]
  },
  {
   "cell_type": "markdown",
   "id": "9c4466e7",
   "metadata": {},
   "source": [
    "Visualiza los valores de precision, recall, f1 para cada una de las clases. \n",
    "- ¿Clasifica de igual manera todas las clases o hay alguna para la que el modelo tiene una mayor capacidad predictiva?"
   ]
  },
  {
   "cell_type": "code",
   "execution_count": 74,
   "id": "bed193fc",
   "metadata": {},
   "outputs": [
    {
     "name": "stdout",
     "output_type": "stream",
     "text": [
      "              precision    recall  f1-score   support\n",
      "\n",
      "           1       0.74      0.74      0.74       540\n",
      "           2       0.73      0.54      0.62       531\n",
      "           3       0.79      0.70      0.74       549\n",
      "           4       0.93      0.96      0.94       557\n",
      "           5       0.74      0.93      0.82       558\n",
      "           6       0.75      0.81      0.78       555\n",
      "           7       0.94      0.93      0.94       556\n",
      "\n",
      "    accuracy                           0.80      3846\n",
      "   macro avg       0.80      0.80      0.80      3846\n",
      "weighted avg       0.80      0.80      0.80      3846\n",
      "\n"
     ]
    }
   ],
   "source": [
    "print(classification_report(y_test, y_pred))"
   ]
  },
  {
   "cell_type": "markdown",
   "id": "437e1ef6",
   "metadata": {},
   "source": [
    "El modelo no clasifica de manera igual todas las clases y muestra una mayor capacidad predictiva para algunas clases en comparación con otras:\n",
    "*   Las clases con mejor capacidad predictiva son las clases 4,5,7 con precisiones superiores al 74% y recalls cercanos o superiores al 93%, destacando la clase 4 y 7 con el mayor porcentaje de f1-score del 94% \n",
    "*   Por otra parte tenemos las clases 1,2,3,6 que ofrecen una precisiones buenas y tiene un recall moderado, destacando la clase 2 con apenas un 54%, dando cómo resultado que se pierden instancias positivas para estas clases siendo la clase 6 la que tiene mejores resultados para este grupo.\n",
    "\n",
    "        Nota: En una primera iteración sin balanceo arroja el siguiente análisis:\n",
    "        *   Las clases con mejor capacidad predictiva son las clases 1, 2, 3 y 7 con precisiones superiores al 75% y recalls cercanos o superiores al 70%, destacando la clase 2 con el mayor porcentaje de f1-score del 81%\n",
    "        *   Por otra parte tenemos las clases 4,5 y 6 que no tienen por si una mala precisión pero tiene un recall muy bajo (ninguna superaba el 50%) destacando la clase 5 con apenas un 18%, dando cómo resultado que se pierden instancias positivas para estas "
   ]
  },
  {
   "cell_type": "markdown",
   "id": "5fec7fc6",
   "metadata": {},
   "source": [
    "**Support Vector Machine**"
   ]
  },
  {
   "cell_type": "code",
   "execution_count": 25,
   "id": "a40cce61",
   "metadata": {},
   "outputs": [],
   "source": [
    "# Importamos las librerías para utilizar las máquinas de vector de soportes.\n",
    "# Utilizaremos la librería svm:\n",
    "\n",
    "from sklearn import svm\n",
    "\n",
    "#Cargamos también las librerías para hacer la matriz de confusión y la cross validation:\n",
    "\n",
    "from sklearn import metrics\n",
    "from sklearn.metrics import confusion_matrix\n",
    "from sklearn.model_selection import cross_val_score\n",
    "from sklearn.model_selection import cross_val_predict\n",
    "from sklearn.model_selection import KFold"
   ]
  },
  {
   "cell_type": "markdown",
   "id": "fb3e9db2",
   "metadata": {},
   "source": [
    "Para la implementación del modelo de clasificación de SVM usaremos la clase Support Vector Classifier de sklearn, https://scikit-learn.org/stable/modules/generated/sklearn.svm.SVC.html#sklearn.svm.SVC\n",
    "\n",
    "El algoritmo de SVM necesita ajustar una serie de hiperparámetros para realizar las clasificaciones. La implementación de sklearn nos da mucha flexibilidad para nuestros modelos. En general, para los problemas más comunes de clasificación, nos tenemos que preocupar de los siguientes hiperparámetros:\n",
    "- C\n",
    "- kernel\n",
    "- degree\n",
    "- gamma\n",
    "\n",
    "Indica qué son cada uno de estos hiperparámetros"
   ]
  },
  {
   "cell_type": "markdown",
   "id": "56cfc868",
   "metadata": {},
   "source": [
    "- **C**\n",
    "\n",
    "Controla el equilibrio entre el doble objetivo de maximizar el margen y minimizar el error cometido. C multiplica a los errores cometidos, de forma que un valor bajo de C tiende a penalizar poco los errores, permitiendo márgenes mayores a costa de cometer más errores, mientras que un valor alto de C penaliza mucho los errores, llevando al modelo a cometer menos errores a costa de un margen menor.\n",
    "\n",
    "\n",
    "Entrada parámetro que ajusta el valor de C, que por defecto tiene el valor '1,0'.\n",
    "- **kernel**\n",
    "\n",
    "Especifica el tipo de kernel a utilizar. Cada opción representa una función diferente para calcular el producto escalar en un espacio de características superior, lo cual permite al SVM manejar problemas no lineales\n",
    "\n",
    "Admite las siguientes opciones cómo parámetro:\n",
    "*   Lineal:\n",
    "    \n",
    "Utiliza un kernel lineal. En este caso, el SVM es equivalente a un clasificador lineal. Este kernel es útil cuando los datos son linealmente separables.\n",
    "*   Poly: \n",
    "\n",
    "Este kernel permite la separación no lineal de los datos mediante la aplicación de un polinomio de grado d.\n",
    "*   rbf: \n",
    "\n",
    "kernel de base radial, es el más adecuado para problemas donde los datos no son linealmente separables.\n",
    "*   sigmoid: \n",
    "\n",
    "Este kernel puede capturar relaciones no lineales y es adecuado para ciertos tipos de problemas donde los datos muestran una relación sigmoide.\n",
    "*   precomputed: \n",
    "\n",
    "Se introduce cómo entrada una matriz de tamaño (n_samples, n_samples) que representa el kernel. \n",
    "*   callable:\n",
    "\n",
    "Permite pasar una función personalizada que calculará el kernel. Esta función debe tomar dos matrices de datos y devolver una matriz de kernel.\n",
    "\n",
    "- **degree**\n",
    "\n",
    "Grado de la función de kernel polinómico ('poly'). Debe ser no negativo. Ignorado por todos los demás kernels.\n",
    "\n",
    "- **gamma**\n",
    "\n",
    "Permite definir el coeficiente usado para los kernels ‘rbf’, ‘poly’ y ‘sigmoid’. Si se pasa gamma='scale' (valor por defecto), se usa 1 / (n_features * X.var()) como valor de gamma, si es ‘auto’, se usa 1 / n_features y si es float, debe ser no negativo."
   ]
  },
  {
   "cell_type": "markdown",
   "id": "d8602f42",
   "metadata": {},
   "source": [
    "Además de los hiperparámetros que acabas de descubrir, la implementación de sklearn tiene el hiperparámetro decision_function_shape\n",
    "\n",
    "¿Qué indica ese parámetro? ¿Para qué puede ser útil?"
   ]
  },
  {
   "cell_type": "markdown",
   "id": "3ed9711c",
   "metadata": {},
   "source": [
    "Determina cómo se presenta la salida de un clasificador SVM multiclase. Puede ser 'ovr' (one-vs-rest) o 'ovo' (one-vs-one). La opción 'ovr' da una matriz de decisiones con una forma que es más fácil de entender (número de muestras por número de clases), mientras que 'ovo' da una matriz más compleja (número de muestras por combinaciones de clases). Internamente, siempre se usa 'ovo' para entrenar el modelo, y 'ovr' solo se construye a partir de los resultados de 'ovo'. \n",
    "\n",
    "Es útil porque permite adaptar la salida del clasificador SVM a diferentes necesidades. La opción 'ovr' (one-vs-rest) facilita la interpretación y el análisis al proporcionar una matriz de decisiones más comprensible, mejora la compatibilidad con herramientas que esperan este formato de salida."
   ]
  },
  {
   "cell_type": "markdown",
   "id": "4c6c62e3-fb4a-450a-8f02-78c15827e995",
   "metadata": {},
   "source": [
    "Tenemos un dataset de más de medio millón de instancias, y para el objetivo de la actividad no hacen falta tantas. Por eso, antes de aplicar SVM vamos a reducir el número de instancias. SVM requiere una gran carga computacional y con ese volumen de instancias el tiempo requerido sería demasiado elevado."
   ]
  },
  {
   "cell_type": "markdown",
   "id": "acda5c32",
   "metadata": {},
   "source": [
    "    *   Este punto se resuelve al principio antes de la clasificación del modelo Random forest. Esto realmente no seria necesario para la clasificación con Random forest, dado que tolera el desbalanceo en las frecuencias de la clase objetivo, pero dado el gran desbalanceo de los datos podría llegar a sesgar las predicciones hacia las clases predominantes y un recall muy bajo en las clases minoritarias. Esto se ha comprobado y para no rellenar con demasiado contenido se ha decidido dejar aquí una copia de los resultados del informe de clasificación en random forest, cada uno con el modelo que mejores resultados arrojaba:\n",
    "    Sin ajustes:\n",
    "                 precision    recall  f1-score   support\n",
    "\n",
    "              1       0.77      0.75      0.76     29244\n",
    "              2       0.78      0.84      0.81     38970\n",
    "              3       0.76      0.82      0.79      4924\n",
    "              4       0.84      0.44      0.58       381\n",
    "              5       0.81      0.18      0.29      1314\n",
    "              6       0.66      0.39      0.49      2406\n",
    "              7       0.82      0.67      0.73      2758\n",
    "\n",
    "       accuracy                           0.78     79997\n",
    "       macro avg       0.78      0.58      0.64     79997\n",
    "       weighted avg       0.78      0.78      0.77     79997\n",
    "\n",
    "\n",
    "       Con ajuste a las dos primeras clases para que tengan el mismo número de registros que la clase 3 (No seleccionado por motivos de rendimiento computacional con SVM; 3 horas de entrenamiento y sin finalizar ):\n",
    "                      precision    recall  f1-score   support\n",
    "\n",
    "                   1       0.75      0.76      0.76     28541\n",
    "                   2       0.72      0.69      0.70     28616\n",
    "                   3       0.77      0.92      0.84     28689\n",
    "                   4       0.83      0.66      0.74      2198\n",
    "                   5       0.73      0.72      0.73      7569\n",
    "                   6       0.73      0.52      0.61     13956\n",
    "                   7       0.91      0.91      0.91     16335\n",
    "\n",
    "            accuracy                           0.77    125904\n",
    "           macro avg       0.78      0.74      0.75    125904\n",
    "        weighted avg       0.77      0.77      0.76    125904\n",
    "\n",
    "      Ajuste de frecuencia per el valor mínimo de entre las clases (Balanceo final seleccionado por rendimiento y predicciones de las clases balanceados) Nº de registros = 19229\n",
    "                       precision    recall  f1-score   support\n",
    "\n",
    "                    1       0.68      0.67      0.68      2191\n",
    "                    2       0.68      0.55      0.61      2191\n",
    "                    3       0.74      0.66      0.70      2201\n",
    "                    4       0.91      0.93      0.92      2198\n",
    "                    5       0.76      0.89      0.82      2214\n",
    "                    6       0.71      0.77      0.74      2189\n",
    "                    7       0.89      0.89      0.89      2200\n",
    "\n",
    "             accuracy                           0.77     15384\n",
    "            macro avg       0.77      0.77      0.76     15384\n",
    "         weighted avg       0.77      0.77      0.76     15384\n"
   ]
  },
  {
   "cell_type": "markdown",
   "id": "4ab3d533",
   "metadata": {},
   "source": [
    "Se divide el número de instancias objetivo entre el número de classes y se selecciona de forma aleatoria registros asta completar así un nuevo dataframe con las frecuencias de classes objetivo equilibradas"
   ]
  },
  {
   "cell_type": "code",
   "execution_count": 41,
   "id": "8701f7a1-9112-4c27-88e7-2c105f90f048",
   "metadata": {},
   "outputs": [],
   "source": [
    "# Con el nuevo número de instancias, separamos los datos en los conjuntos de entrenamiento y test.\n",
    "from sklearn.model_selection import train_test_split\n",
    "\n",
    "X, y = sampled_data.drop('Cover_Type',axis=1),sampled_data['Cover_Type']\n",
    "\n",
    "X_train,X_test,y_train,y_test = train_test_split(X, y, test_size=0.2, random_state=1)\n"
   ]
  },
  {
   "cell_type": "markdown",
   "id": "155f3ed0",
   "metadata": {},
   "source": [
    "Como primer paso para crear un clasificador de SVM hay que decidir si hay que hacer algún preprocesamiento adicional sobre los datos. ¿Hace falta normalizar los datos?"
   ]
  },
  {
   "cell_type": "code",
   "execution_count": 43,
   "id": "1fa219b7",
   "metadata": {},
   "outputs": [],
   "source": [
    "from sklearn.preprocessing import StandardScaler\n",
    "\n",
    "# Seleccionar las columnas que se desean escalar\n",
    "columns_to_scale = ['Elevation', 'Aspect', 'Slope', \n",
    "                    'Horizontal_Distance_To_Hydrology', \n",
    "                    'Vertical_Distance_To_Hydrology', \n",
    "                    'Horizontal_Distance_To_Roadways', \n",
    "                    'Hillshade_9am', 'Hillshade_Noon', \n",
    "                    'Hillshade_3pm', \n",
    "                    'Horizontal_Distance_To_Fire_Points']\n",
    "\n",
    "# Inicializar el objeto de escalado\n",
    "scaler = StandardScaler()\n",
    "\n",
    "# Escalar solo las columnas seleccionadas y asignar el resultado a un nuevo DataFrame\n",
    "sampled_data_scaled = sampled_data.copy()\n",
    "sampled_data_scaled[columns_to_scale] = scaler.fit_transform(sampled_data_scaled[columns_to_scale])\n"
   ]
  },
  {
   "cell_type": "code",
   "execution_count": 44,
   "id": "187fb58e",
   "metadata": {},
   "outputs": [
    {
     "data": {
      "text/html": [
       "<div>\n",
       "<style scoped>\n",
       "    .dataframe tbody tr th:only-of-type {\n",
       "        vertical-align: middle;\n",
       "    }\n",
       "\n",
       "    .dataframe tbody tr th {\n",
       "        vertical-align: top;\n",
       "    }\n",
       "\n",
       "    .dataframe thead th {\n",
       "        text-align: right;\n",
       "    }\n",
       "</style>\n",
       "<table border=\"1\" class=\"dataframe\">\n",
       "  <thead>\n",
       "    <tr style=\"text-align: right;\">\n",
       "      <th></th>\n",
       "      <th>Elevation</th>\n",
       "      <th>Aspect</th>\n",
       "      <th>Slope</th>\n",
       "      <th>Horizontal_Distance_To_Hydrology</th>\n",
       "      <th>Vertical_Distance_To_Hydrology</th>\n",
       "      <th>Horizontal_Distance_To_Roadways</th>\n",
       "      <th>Hillshade_9am</th>\n",
       "      <th>Hillshade_Noon</th>\n",
       "      <th>Hillshade_3pm</th>\n",
       "      <th>Horizontal_Distance_To_Fire_Points</th>\n",
       "      <th>...</th>\n",
       "      <th>Soil_Type35</th>\n",
       "      <th>Soil_Type36</th>\n",
       "      <th>Soil_Type37</th>\n",
       "      <th>Soil_Type38</th>\n",
       "      <th>Soil_Type39</th>\n",
       "      <th>Soil_Type40</th>\n",
       "      <th>Wilderness_Area2</th>\n",
       "      <th>Wilderness_Area3</th>\n",
       "      <th>Wilderness_Area4</th>\n",
       "      <th>Cover_Type</th>\n",
       "    </tr>\n",
       "  </thead>\n",
       "  <tbody>\n",
       "    <tr>\n",
       "      <th>count</th>\n",
       "      <td>1.922900e+04</td>\n",
       "      <td>1.922900e+04</td>\n",
       "      <td>1.922900e+04</td>\n",
       "      <td>1.922900e+04</td>\n",
       "      <td>1.922900e+04</td>\n",
       "      <td>1.922900e+04</td>\n",
       "      <td>1.922900e+04</td>\n",
       "      <td>1.922900e+04</td>\n",
       "      <td>1.922900e+04</td>\n",
       "      <td>1.922900e+04</td>\n",
       "      <td>...</td>\n",
       "      <td>19229.000000</td>\n",
       "      <td>19229.000000</td>\n",
       "      <td>19229.000000</td>\n",
       "      <td>19229.000000</td>\n",
       "      <td>19229.000000</td>\n",
       "      <td>19229.000000</td>\n",
       "      <td>19229.000000</td>\n",
       "      <td>19229.000000</td>\n",
       "      <td>19229.000000</td>\n",
       "      <td>19229.000000</td>\n",
       "    </tr>\n",
       "    <tr>\n",
       "      <th>mean</th>\n",
       "      <td>-3.739504e-16</td>\n",
       "      <td>-1.208318e-16</td>\n",
       "      <td>1.588920e-17</td>\n",
       "      <td>6.577389e-17</td>\n",
       "      <td>3.473452e-17</td>\n",
       "      <td>3.214791e-17</td>\n",
       "      <td>-1.829105e-17</td>\n",
       "      <td>-4.304864e-16</td>\n",
       "      <td>-1.925179e-16</td>\n",
       "      <td>-4.582001e-17</td>\n",
       "      <td>...</td>\n",
       "      <td>0.006397</td>\n",
       "      <td>0.000520</td>\n",
       "      <td>0.001872</td>\n",
       "      <td>0.047012</td>\n",
       "      <td>0.044516</td>\n",
       "      <td>0.029227</td>\n",
       "      <td>0.033855</td>\n",
       "      <td>0.422383</td>\n",
       "      <td>0.308752</td>\n",
       "      <td>4.000000</td>\n",
       "    </tr>\n",
       "    <tr>\n",
       "      <th>std</th>\n",
       "      <td>1.000026e+00</td>\n",
       "      <td>1.000026e+00</td>\n",
       "      <td>1.000026e+00</td>\n",
       "      <td>1.000026e+00</td>\n",
       "      <td>1.000026e+00</td>\n",
       "      <td>1.000026e+00</td>\n",
       "      <td>1.000026e+00</td>\n",
       "      <td>1.000026e+00</td>\n",
       "      <td>1.000026e+00</td>\n",
       "      <td>1.000026e+00</td>\n",
       "      <td>...</td>\n",
       "      <td>0.079725</td>\n",
       "      <td>0.022799</td>\n",
       "      <td>0.043229</td>\n",
       "      <td>0.211671</td>\n",
       "      <td>0.206244</td>\n",
       "      <td>0.168446</td>\n",
       "      <td>0.180861</td>\n",
       "      <td>0.493952</td>\n",
       "      <td>0.461991</td>\n",
       "      <td>2.000052</td>\n",
       "    </tr>\n",
       "    <tr>\n",
       "      <th>min</th>\n",
       "      <td>-2.089851e+00</td>\n",
       "      <td>-1.419587e+00</td>\n",
       "      <td>-1.948361e+00</td>\n",
       "      <td>-1.083553e+00</td>\n",
       "      <td>-3.329760e+00</td>\n",
       "      <td>-1.294098e+00</td>\n",
       "      <td>-5.459221e+00</td>\n",
       "      <td>-5.399821e+00</td>\n",
       "      <td>-2.926041e+00</td>\n",
       "      <td>-1.372801e+00</td>\n",
       "      <td>...</td>\n",
       "      <td>0.000000</td>\n",
       "      <td>0.000000</td>\n",
       "      <td>0.000000</td>\n",
       "      <td>0.000000</td>\n",
       "      <td>0.000000</td>\n",
       "      <td>0.000000</td>\n",
       "      <td>0.000000</td>\n",
       "      <td>0.000000</td>\n",
       "      <td>0.000000</td>\n",
       "      <td>1.000000</td>\n",
       "    </tr>\n",
       "    <tr>\n",
       "      <th>25%</th>\n",
       "      <td>-8.940814e-01</td>\n",
       "      <td>-8.179681e-01</td>\n",
       "      <td>-7.718950e-01</td>\n",
       "      <td>-7.648096e-01</td>\n",
       "      <td>-7.542214e-01</td>\n",
       "      <td>-7.292100e-01</td>\n",
       "      <td>-5.553320e-01</td>\n",
       "      <td>-5.147021e-01</td>\n",
       "      <td>-6.196758e-01</td>\n",
       "      <td>-7.095738e-01</td>\n",
       "      <td>...</td>\n",
       "      <td>0.000000</td>\n",
       "      <td>0.000000</td>\n",
       "      <td>0.000000</td>\n",
       "      <td>0.000000</td>\n",
       "      <td>0.000000</td>\n",
       "      <td>0.000000</td>\n",
       "      <td>0.000000</td>\n",
       "      <td>0.000000</td>\n",
       "      <td>0.000000</td>\n",
       "      <td>2.000000</td>\n",
       "    </tr>\n",
       "    <tr>\n",
       "      <th>50%</th>\n",
       "      <td>5.137288e-03</td>\n",
       "      <td>-2.801569e-01</td>\n",
       "      <td>-1.836619e-01</td>\n",
       "      <td>-2.272280e-01</td>\n",
       "      <td>-3.140977e-01</td>\n",
       "      <td>-3.012191e-01</td>\n",
       "      <td>2.292902e-01</td>\n",
       "      <td>1.395549e-01</td>\n",
       "      <td>7.658523e-02</td>\n",
       "      <td>-2.266502e-01</td>\n",
       "      <td>...</td>\n",
       "      <td>0.000000</td>\n",
       "      <td>0.000000</td>\n",
       "      <td>0.000000</td>\n",
       "      <td>0.000000</td>\n",
       "      <td>0.000000</td>\n",
       "      <td>0.000000</td>\n",
       "      <td>0.000000</td>\n",
       "      <td>0.000000</td>\n",
       "      <td>0.000000</td>\n",
       "      <td>4.000000</td>\n",
       "    </tr>\n",
       "    <tr>\n",
       "      <th>75%</th>\n",
       "      <td>8.541337e-01</td>\n",
       "      <td>9.230818e-01</td>\n",
       "      <td>6.398645e-01</td>\n",
       "      <td>4.863758e-01</td>\n",
       "      <td>4.520435e-01</td>\n",
       "      <td>4.449442e-01</td>\n",
       "      <td>7.523716e-01</td>\n",
       "      <td>7.065776e-01</td>\n",
       "      <td>6.858137e-01</td>\n",
       "      <td>4.238922e-01</td>\n",
       "      <td>...</td>\n",
       "      <td>0.000000</td>\n",
       "      <td>0.000000</td>\n",
       "      <td>0.000000</td>\n",
       "      <td>0.000000</td>\n",
       "      <td>0.000000</td>\n",
       "      <td>0.000000</td>\n",
       "      <td>0.000000</td>\n",
       "      <td>1.000000</td>\n",
       "      <td>1.000000</td>\n",
       "      <td>6.000000</td>\n",
       "    </tr>\n",
       "    <tr>\n",
       "      <th>max</th>\n",
       "      <td>2.633439e+00</td>\n",
       "      <td>1.861973e+00</td>\n",
       "      <td>4.051617e+00</td>\n",
       "      <td>5.424515e+00</td>\n",
       "      <td>8.015651e+00</td>\n",
       "      <td>3.922276e+00</td>\n",
       "      <td>1.340838e+00</td>\n",
       "      <td>1.535303e+00</td>\n",
       "      <td>2.448225e+00</td>\n",
       "      <td>5.042019e+00</td>\n",
       "      <td>...</td>\n",
       "      <td>1.000000</td>\n",
       "      <td>1.000000</td>\n",
       "      <td>1.000000</td>\n",
       "      <td>1.000000</td>\n",
       "      <td>1.000000</td>\n",
       "      <td>1.000000</td>\n",
       "      <td>1.000000</td>\n",
       "      <td>1.000000</td>\n",
       "      <td>1.000000</td>\n",
       "      <td>7.000000</td>\n",
       "    </tr>\n",
       "  </tbody>\n",
       "</table>\n",
       "<p>8 rows × 55 columns</p>\n",
       "</div>"
      ],
      "text/plain": [
       "          Elevation        Aspect         Slope  \\\n",
       "count  1.922900e+04  1.922900e+04  1.922900e+04   \n",
       "mean  -3.739504e-16 -1.208318e-16  1.588920e-17   \n",
       "std    1.000026e+00  1.000026e+00  1.000026e+00   \n",
       "min   -2.089851e+00 -1.419587e+00 -1.948361e+00   \n",
       "25%   -8.940814e-01 -8.179681e-01 -7.718950e-01   \n",
       "50%    5.137288e-03 -2.801569e-01 -1.836619e-01   \n",
       "75%    8.541337e-01  9.230818e-01  6.398645e-01   \n",
       "max    2.633439e+00  1.861973e+00  4.051617e+00   \n",
       "\n",
       "       Horizontal_Distance_To_Hydrology  Vertical_Distance_To_Hydrology  \\\n",
       "count                      1.922900e+04                    1.922900e+04   \n",
       "mean                       6.577389e-17                    3.473452e-17   \n",
       "std                        1.000026e+00                    1.000026e+00   \n",
       "min                       -1.083553e+00                   -3.329760e+00   \n",
       "25%                       -7.648096e-01                   -7.542214e-01   \n",
       "50%                       -2.272280e-01                   -3.140977e-01   \n",
       "75%                        4.863758e-01                    4.520435e-01   \n",
       "max                        5.424515e+00                    8.015651e+00   \n",
       "\n",
       "       Horizontal_Distance_To_Roadways  Hillshade_9am  Hillshade_Noon  \\\n",
       "count                     1.922900e+04   1.922900e+04    1.922900e+04   \n",
       "mean                      3.214791e-17  -1.829105e-17   -4.304864e-16   \n",
       "std                       1.000026e+00   1.000026e+00    1.000026e+00   \n",
       "min                      -1.294098e+00  -5.459221e+00   -5.399821e+00   \n",
       "25%                      -7.292100e-01  -5.553320e-01   -5.147021e-01   \n",
       "50%                      -3.012191e-01   2.292902e-01    1.395549e-01   \n",
       "75%                       4.449442e-01   7.523716e-01    7.065776e-01   \n",
       "max                       3.922276e+00   1.340838e+00    1.535303e+00   \n",
       "\n",
       "       Hillshade_3pm  Horizontal_Distance_To_Fire_Points  ...   Soil_Type35  \\\n",
       "count   1.922900e+04                        1.922900e+04  ...  19229.000000   \n",
       "mean   -1.925179e-16                       -4.582001e-17  ...      0.006397   \n",
       "std     1.000026e+00                        1.000026e+00  ...      0.079725   \n",
       "min    -2.926041e+00                       -1.372801e+00  ...      0.000000   \n",
       "25%    -6.196758e-01                       -7.095738e-01  ...      0.000000   \n",
       "50%     7.658523e-02                       -2.266502e-01  ...      0.000000   \n",
       "75%     6.858137e-01                        4.238922e-01  ...      0.000000   \n",
       "max     2.448225e+00                        5.042019e+00  ...      1.000000   \n",
       "\n",
       "        Soil_Type36   Soil_Type37   Soil_Type38   Soil_Type39   Soil_Type40  \\\n",
       "count  19229.000000  19229.000000  19229.000000  19229.000000  19229.000000   \n",
       "mean       0.000520      0.001872      0.047012      0.044516      0.029227   \n",
       "std        0.022799      0.043229      0.211671      0.206244      0.168446   \n",
       "min        0.000000      0.000000      0.000000      0.000000      0.000000   \n",
       "25%        0.000000      0.000000      0.000000      0.000000      0.000000   \n",
       "50%        0.000000      0.000000      0.000000      0.000000      0.000000   \n",
       "75%        0.000000      0.000000      0.000000      0.000000      0.000000   \n",
       "max        1.000000      1.000000      1.000000      1.000000      1.000000   \n",
       "\n",
       "       Wilderness_Area2  Wilderness_Area3  Wilderness_Area4    Cover_Type  \n",
       "count      19229.000000      19229.000000      19229.000000  19229.000000  \n",
       "mean           0.033855          0.422383          0.308752      4.000000  \n",
       "std            0.180861          0.493952          0.461991      2.000052  \n",
       "min            0.000000          0.000000          0.000000      1.000000  \n",
       "25%            0.000000          0.000000          0.000000      2.000000  \n",
       "50%            0.000000          0.000000          0.000000      4.000000  \n",
       "75%            0.000000          1.000000          1.000000      6.000000  \n",
       "max            1.000000          1.000000          1.000000      7.000000  \n",
       "\n",
       "[8 rows x 55 columns]"
      ]
     },
     "execution_count": 44,
     "metadata": {},
     "output_type": "execute_result"
    }
   ],
   "source": [
    "sampled_data_scaled.describe()"
   ]
  },
  {
   "cell_type": "markdown",
   "id": "45d6c528",
   "metadata": {},
   "source": [
    "Escalar los datos asegura que todas las características contribuyan de manera equitativa al modelo y evita que características con escalas más grandes dominen el proceso de optimización. Además, el SVM busca encontrar el hiperplano que mejor separa las clases en función de la distancia entre los puntos de datos, por lo que si las características no están en la misma escala, el hiperplano resultante podría no representar correctamente la estructura de los datos.\n",
    "\n",
    "Por lo tanto, el escalado de características ayuda a mejorar la estabilidad y el rendimiento del modelo SVM, así como a garantizar resultados más consistentes y confiables. Para el caso los datos categóricos binarios y la variable objetivo no es necesario escalar."
   ]
  },
  {
   "cell_type": "code",
   "execution_count": 75,
   "id": "c74612d7",
   "metadata": {},
   "outputs": [],
   "source": [
    "# Con el nuevo número de instancias, separamos los datos en los conjuntos de entrenamiento y test.\n",
    "from sklearn.model_selection import train_test_split\n",
    "\n",
    "X, y = sampled_data_scaled.drop('Cover_Type',axis=1),sampled_data_scaled['Cover_Type']\n",
    "\n",
    "X_train,X_test,y_train,y_test = train_test_split(X, y, test_size=0.2, random_state=1)"
   ]
  },
  {
   "cell_type": "markdown",
   "id": "f773c8f8",
   "metadata": {},
   "source": [
    "Entrena un conjunto de modelos de SVM que utilicen todas las variables del dataset, con C = 0.1 hasta 1000 con cinco valores diferentes; kernel radial, y gamma con valor scale."
   ]
  },
  {
   "cell_type": "code",
   "execution_count": 76,
   "id": "3af670f1",
   "metadata": {},
   "outputs": [
    {
     "data": {
      "text/plain": [
       "[SVC(C=0.1), SVC(C=1), SVC(C=100), SVC(C=1000), SVC(C=10)]"
      ]
     },
     "execution_count": 76,
     "metadata": {},
     "output_type": "execute_result"
    }
   ],
   "source": [
    "from sklearn.svm import SVC\n",
    "\n",
    "C = {0.1, 1, 10, 100, 1000}\n",
    "kernel = 'rbf'\n",
    "gamma = 'scale'\n",
    "\n",
    "svc = [SVC(C=i, kernel=kernel, gamma=gamma) for i in C]\n",
    "svc"
   ]
  },
  {
   "cell_type": "code",
   "execution_count": 77,
   "id": "0e666ae3-b5ff-41bb-a416-aa3838b5db89",
   "metadata": {},
   "outputs": [],
   "source": [
    "trained_models = []\n",
    "# Evaluar los modelos\n",
    "for svc_modelo in svc:\n",
    "    trained_models.append(svc_modelo.fit(X_train, y_train))"
   ]
  },
  {
   "cell_type": "markdown",
   "id": "0ffaa64a",
   "metadata": {},
   "source": [
    "Después de hacer el entrenamiento, visualiza las matrices de confusión de los modelos entrenados."
   ]
  },
  {
   "cell_type": "code",
   "execution_count": 79,
   "id": "589d3eb4",
   "metadata": {},
   "outputs": [
    {
     "name": "stdout",
     "output_type": "stream",
     "text": [
      "Modelo con valor de C = 0.1 entrenado \n",
      "[[1580  309    1    0   87    7  223]\n",
      " [ 515 1153   42    3  386   86   31]\n",
      " [   0   15 1270  322   93  498    0]\n",
      " [   0    0   77 2053    0   60    0]\n",
      " [  75  209   73    0 1751   81    0]\n",
      " [   0   35  374  199   70 1514    0]\n",
      " [ 268    0    0    0    8    0 1915]]\n",
      "Modelo con valor de C = 1 entrenado \n",
      "[[1675  313    2    0   64    5  148]\n",
      " [ 395 1399   63    1  273   62   23]\n",
      " [   0   12 1569  178   34  405    0]\n",
      " [   0    0   48 2091    0   51    0]\n",
      " [   9  128   67    0 1960   25    0]\n",
      " [   0   17  337  103   19 1716    0]\n",
      " [ 135    1    1    0    1    0 2053]]\n",
      "Modelo con valor de C = 100 entrenado \n",
      "[[2017  144    0    0   16    0   30]\n",
      " [ 164 1929   12    0   80   29    2]\n",
      " [   0    7 1917   45   16  213    0]\n",
      " [   0    0   19 2162    0    9    0]\n",
      " [   0   11   13    0 2153   12    0]\n",
      " [   0    5  111   28    5 2043    0]\n",
      " [  17    0    0    0    0    0 2174]]\n",
      "Modelo con valor de C = 1000 entrenado \n",
      "[[2148   46    0    0    6    0    7]\n",
      " [  64 2125    2    0   20    5    0]\n",
      " [   0    3 2060   20    7  108    0]\n",
      " [   0    0    5 2182    0    3    0]\n",
      " [   0    1    2    0 2183    3    0]\n",
      " [   0    0   60    9    0 2123    0]\n",
      " [   1    0    0    0    0    0 2190]]\n",
      "Modelo con valor de C = 10 entrenado \n",
      "[[1857  231    1    0   36    2   80]\n",
      " [ 282 1658   43    1  165   57   10]\n",
      " [   0    8 1783   80   15  312    0]\n",
      " [   0    0   35 2129    0   26    0]\n",
      " [   6   47   48    0 2073   15    0]\n",
      " [   0    7  233   55    8 1889    0]\n",
      " [  46    0    0    0    1    0 2144]]\n"
     ]
    }
   ],
   "source": [
    "svc_pred = []\n",
    "for svc_trained_model in trained_models:\n",
    "    pred = svc_trained_model.predict(X_train)\n",
    "    svc_pred.append((pred,svc_trained_model))\n",
    "    print(f\"Modelo con valor de C = {svc_trained_model.C} entrenado \")\n",
    "    print(confusion_matrix(y_train,pred))\n",
    "\n",
    "\n"
   ]
  },
  {
   "cell_type": "markdown",
   "id": "d04ad53c",
   "metadata": {},
   "source": [
    "¿Cuántos ejemplos ha clasificado correctamente cada uno de los modelos?"
   ]
  },
  {
   "cell_type": "code",
   "execution_count": 80,
   "id": "4f830ad4",
   "metadata": {},
   "outputs": [
    {
     "name": "stdout",
     "output_type": "stream",
     "text": [
      "Modelo con valor de C = 0.1 entrenado \n",
      "Número de ejemplos clasificados correctamente: 11236\n",
      "Número de ejemplos clasificados incorrectamente: 4147\n",
      "Modelo con valor de C = 1 entrenado \n",
      "Número de ejemplos clasificados correctamente: 12463\n",
      "Número de ejemplos clasificados incorrectamente: 2920\n",
      "Modelo con valor de C = 100 entrenado \n",
      "Número de ejemplos clasificados correctamente: 14395\n",
      "Número de ejemplos clasificados incorrectamente: 988\n",
      "Modelo con valor de C = 1000 entrenado \n",
      "Número de ejemplos clasificados correctamente: 15011\n",
      "Número de ejemplos clasificados incorrectamente: 372\n",
      "Modelo con valor de C = 10 entrenado \n",
      "Número de ejemplos clasificados correctamente: 13533\n",
      "Número de ejemplos clasificados incorrectamente: 1850\n"
     ]
    }
   ],
   "source": [
    "for predic, model in  svc_pred:\n",
    "    print(f\"Modelo con valor de C = {model.C} entrenado \")\n",
    "    print(f\"Número de ejemplos clasificados correctamente: {np.trace(confusion_matrix(y_train,predic))}\")\n",
    "    print(f\"Número de ejemplos clasificados incorrectamente: {np.sum(confusion_matrix(y_train,predic)) - np.trace(confusion_matrix(y_train,predic))}\")"
   ]
  },
  {
   "cell_type": "markdown",
   "id": "8d46849d",
   "metadata": {},
   "source": [
    "Modelo con valor de C = 0.1 entrenado\n",
    "\n",
    "*   Número de ejemplos clasificados correctamente: 11236\n",
    "*   Número de ejemplos clasificados incorrectamente: 4147\n",
    "\n",
    "Modelo con valor de C = 1 entrenado \n",
    "*   Número de ejemplos clasificados correctamente: 12463\n",
    "*   Número de ejemplos clasificados incorrectamente: 2920\n",
    "\n",
    "Modelo con valor de C = 100 entrenado \n",
    "*   Número de ejemplos clasificados correctamente: 14395\n",
    "*   Número de ejemplos clasificados incorrectamente: 988\n",
    "\n",
    "Modelo con valor de C = 1000 entrenado \n",
    "\n",
    "*   Número de ejemplos clasificados correctamente: 15011\n",
    "*   Número de ejemplos clasificados incorrectamente: 372\n",
    "\n",
    "Modelo con valor de C = 10 entrenado \n",
    "\n",
    "*   Número de ejemplos clasificados correctamente: 13533\n",
    "*   Número de ejemplos clasificados incorrectamente: 1850\n",
    "\n"
   ]
  },
  {
   "cell_type": "markdown",
   "id": "6ddb9cf9",
   "metadata": {},
   "source": [
    "¿Cuál de todos los modelos que has entrenado obtiene mejores resultados de precision para todas las clases? Si no hay ninguno que consideres que sea óptimo, explica cómo se comporta para cada clase el modelo que consideres que tiene mejores resultados."
   ]
  },
  {
   "cell_type": "code",
   "execution_count": 81,
   "id": "1278fd97",
   "metadata": {},
   "outputs": [
    {
     "name": "stdout",
     "output_type": "stream",
     "text": [
      "Modelo con valor de C = 1000 entrenado: Precisión promedio 0.9759\n",
      "Modelo con valor de C = 100 entrenado: Precisión promedio 0.9358\n",
      "Modelo con valor de C = 10 entrenado: Precisión promedio 0.8789\n",
      "Modelo con valor de C = 1 entrenado: Precisión promedio 0.8075\n",
      "Modelo con valor de C = 0.1 entrenado: Precisión promedio 0.7277\n"
     ]
    }
   ],
   "source": [
    "# Precisión promedio de cada modelo\n",
    "mean_precision = []\n",
    "\n",
    "# Evaluar los modelos\n",
    "for predic, model in  svc_pred:\n",
    "    precision = precision_score(y_train, predic, average=None)\n",
    "    mean_precision.append((model.C, precision.mean()))\n",
    "\n",
    "# Ordenar los modelos por precisión promedio\n",
    "mean_precision.sort(key=lambda x: x[1], reverse=True)\n",
    "\n",
    "# Mostrar los resultados\n",
    "for i, mean_prec in mean_precision:\n",
    "    print(f\"Modelo con valor de C = {i} entrenado: Precisión promedio {mean_prec:.4f}\")"
   ]
  },
  {
   "cell_type": "markdown",
   "id": "d16931ac",
   "metadata": {},
   "source": [
    "El que arroja mejores resultados de precisión es el modelo entrenado con un valor C igual a 1000. Vemos cómo se comporta para cada una de las clases que clasifica el modelo a traves de el informe de clasificación"
   ]
  },
  {
   "cell_type": "code",
   "execution_count": 82,
   "id": "35d4f343",
   "metadata": {},
   "outputs": [
    {
     "name": "stdout",
     "output_type": "stream",
     "text": [
      "Modelo con valor de C = 1000\n",
      "              precision    recall  f1-score   support\n",
      "\n",
      "           1       0.97      0.97      0.97      2207\n",
      "           2       0.98      0.96      0.97      2216\n",
      "           3       0.97      0.94      0.95      2198\n",
      "           4       0.99      1.00      0.99      2190\n",
      "           5       0.99      1.00      0.99      2189\n",
      "           6       0.95      0.97      0.96      2192\n",
      "           7       1.00      1.00      1.00      2191\n",
      "\n",
      "    accuracy                           0.98     15383\n",
      "   macro avg       0.98      0.98      0.98     15383\n",
      "weighted avg       0.98      0.98      0.98     15383\n",
      "\n"
     ]
    }
   ],
   "source": [
    "predic, model = svc_pred[3]\n",
    "print(f\"Modelo con valor de C = {model.C}\")\n",
    "print(classification_report(y_train, predic))"
   ]
  },
  {
   "cell_type": "markdown",
   "id": "24bd428f",
   "metadata": {},
   "source": [
    "Selecciona el modelo que consideras que obtiene mejores resultados y realiza las predicciones con el conjunto de datos de test."
   ]
  },
  {
   "cell_type": "code",
   "execution_count": 83,
   "id": "5eef52fa",
   "metadata": {},
   "outputs": [
    {
     "name": "stdout",
     "output_type": "stream",
     "text": [
      "Modelo con valor de C = 1000\n"
     ]
    }
   ],
   "source": [
    "null,svc_model_c1000 = svc_pred[3]\n",
    "print(f\"Modelo con valor de C = {svc_model_c1000.C}\")\n",
    "predic_c1000 = svc_model_c1000.predict(X_test)\n"
   ]
  },
  {
   "cell_type": "markdown",
   "id": "1156e32d",
   "metadata": {},
   "source": [
    "Visualiza la matriz de confusión de los datos de test.\n",
    "- ¿Cuántos ejemplos ha clasificado bien el modelo?\n",
    "- ¿Cuántos ejemplos ha clasificado de manera errónea?"
   ]
  },
  {
   "cell_type": "code",
   "execution_count": 84,
   "id": "0f6e0a04",
   "metadata": {},
   "outputs": [
    {
     "name": "stdout",
     "output_type": "stream",
     "text": [
      "Número de ejemplos clasificados correctamente: 3232\n",
      "Número de ejemplos clasificados incorrectamente: 614\n"
     ]
    }
   ],
   "source": [
    "print(f\"Número de ejemplos clasificados correctamente: {np.trace(confusion_matrix(y_test,predic_c1000))}\")\n",
    "print(f\"Número de ejemplos clasificados incorrectamente: {np.sum(confusion_matrix(y_test,predic_c1000)) - np.trace(confusion_matrix(y_test,predic_c1000))}\")"
   ]
  },
  {
   "cell_type": "markdown",
   "id": "6c187564",
   "metadata": {},
   "source": [
    "Sobre los datos de test ha clasificado correctamente 2.918 registros mientras que ha clasificado incorrectamente 928."
   ]
  },
  {
   "cell_type": "markdown",
   "id": "b08b873b",
   "metadata": {},
   "source": [
    "Visualiza los valores de precision, recall, f1 para cada una de las clases. \n",
    "- ¿Clasifica de igual manera todas las clases o hay alguna para la que el modelo tiene una mayor capacidad predictiva?"
   ]
  },
  {
   "cell_type": "code",
   "execution_count": 85,
   "id": "61426541",
   "metadata": {},
   "outputs": [
    {
     "name": "stdout",
     "output_type": "stream",
     "text": [
      "              precision    recall  f1-score   support\n",
      "\n",
      "           1       0.74      0.76      0.75       540\n",
      "           2       0.70      0.68      0.69       531\n",
      "           3       0.79      0.80      0.80       549\n",
      "           4       0.94      0.94      0.94       557\n",
      "           5       0.92      0.92      0.92       558\n",
      "           6       0.83      0.82      0.82       555\n",
      "           7       0.96      0.94      0.95       556\n",
      "\n",
      "    accuracy                           0.84      3846\n",
      "   macro avg       0.84      0.84      0.84      3846\n",
      "weighted avg       0.84      0.84      0.84      3846\n",
      "\n"
     ]
    }
   ],
   "source": [
    "\n",
    "print(classification_report(y_test, predic_c1000))"
   ]
  },
  {
   "cell_type": "markdown",
   "id": "fa4f2ae1",
   "metadata": {},
   "source": [
    "El modelo no clasifica de igual manera todas las clases. Tiene una mayor capacidad predictiva para las clases 4 y 7, mientras que tiene más dificultades para predecir correctamente las instancias de la clase 2. Las otras clases tienen un rendimiento moderado. "
   ]
  },
  {
   "cell_type": "markdown",
   "id": "c0629d8f",
   "metadata": {},
   "source": [
    "**Comparativa**\n",
    "\n",
    "En base al EDA realizado, a las decisiones tomadas sobre los datos e hiperparámetros y a las características computacionales de tu equipo. ¿Qué modelo obtiene mejores resultados de clasificación?"
   ]
  },
  {
   "cell_type": "code",
   "execution_count": 88,
   "id": "df3f2046",
   "metadata": {},
   "outputs": [
    {
     "name": "stdout",
     "output_type": "stream",
     "text": [
      "Random Forest:\n",
      "Accuracy: 0.8036921476859075\n",
      "Confusion Matrix:\n",
      " [[399  87   0   0  24   0  30]\n",
      " [ 99 289  15   0 109  18   1]\n",
      " [  0   4 382  32  18 113   0]\n",
      " [  0   0  14 535   0   8   0]\n",
      " [  2  16  10   0 519  11   0]\n",
      " [  0   0  63  11  31 450   0]\n",
      " [ 38   0   0   0   1   0 517]]\n",
      "Classification Report:\n",
      "               precision    recall  f1-score   support\n",
      "\n",
      "           1       0.74      0.74      0.74       540\n",
      "           2       0.73      0.54      0.62       531\n",
      "           3       0.79      0.70      0.74       549\n",
      "           4       0.93      0.96      0.94       557\n",
      "           5       0.74      0.93      0.82       558\n",
      "           6       0.75      0.81      0.78       555\n",
      "           7       0.94      0.93      0.94       556\n",
      "\n",
      "    accuracy                           0.80      3846\n",
      "   macro avg       0.80      0.80      0.80      3846\n",
      "weighted avg       0.80      0.80      0.80      3846\n",
      "\n",
      "SVM:\n",
      "Accuracy: 0.8403536141445658\n",
      "Confusion Matrix:\n",
      " [[413 106   1   0   3   0  17]\n",
      " [104 363  11   0  32  16   5]\n",
      " [  0  17 437  21   7  67   0]\n",
      " [  0   0  24 525   0   8   0]\n",
      " [ 13  18   5   0 516   5   1]\n",
      " [  1  13  72  11   4 454   0]\n",
      " [ 30   2   0   0   0   0 524]]\n",
      "Classification Report:\n",
      "               precision    recall  f1-score   support\n",
      "\n",
      "           1       0.74      0.76      0.75       540\n",
      "           2       0.70      0.68      0.69       531\n",
      "           3       0.79      0.80      0.80       549\n",
      "           4       0.94      0.94      0.94       557\n",
      "           5       0.92      0.92      0.92       558\n",
      "           6       0.83      0.82      0.82       555\n",
      "           7       0.96      0.94      0.95       556\n",
      "\n",
      "    accuracy                           0.84      3846\n",
      "   macro avg       0.84      0.84      0.84      3846\n",
      "weighted avg       0.84      0.84      0.84      3846\n",
      "\n"
     ]
    }
   ],
   "source": [
    "# Random Forest\n",
    "print(\"Random Forest:\")\n",
    "print(\"Accuracy:\", accuracy_score(y_test, y_pred))\n",
    "print(\"Confusion Matrix:\\n\", confusion_matrix(y_test, y_pred))\n",
    "print(\"Classification Report:\\n\", classification_report(y_test, y_pred))\n"
   ]
  },
  {
   "cell_type": "code",
   "execution_count": 90,
   "id": "76771907",
   "metadata": {},
   "outputs": [
    {
     "name": "stdout",
     "output_type": "stream",
     "text": [
      "SVM:\n",
      "Accuracy: 0.8403536141445658\n",
      "Confusion Matrix:\n",
      " [[413 106   1   0   3   0  17]\n",
      " [104 363  11   0  32  16   5]\n",
      " [  0  17 437  21   7  67   0]\n",
      " [  0   0  24 525   0   8   0]\n",
      " [ 13  18   5   0 516   5   1]\n",
      " [  1  13  72  11   4 454   0]\n",
      " [ 30   2   0   0   0   0 524]]\n",
      "Classification Report:\n",
      "               precision    recall  f1-score   support\n",
      "\n",
      "           1       0.74      0.76      0.75       540\n",
      "           2       0.70      0.68      0.69       531\n",
      "           3       0.79      0.80      0.80       549\n",
      "           4       0.94      0.94      0.94       557\n",
      "           5       0.92      0.92      0.92       558\n",
      "           6       0.83      0.82      0.82       555\n",
      "           7       0.96      0.94      0.95       556\n",
      "\n",
      "    accuracy                           0.84      3846\n",
      "   macro avg       0.84      0.84      0.84      3846\n",
      "weighted avg       0.84      0.84      0.84      3846\n",
      "\n"
     ]
    }
   ],
   "source": [
    "\n",
    "# SVM\n",
    "print(\"SVM:\")\n",
    "print(\"Accuracy:\", accuracy_score(y_test, predic_c1000))\n",
    "print(\"Confusion Matrix:\\n\", confusion_matrix(y_test, predic_c1000))\n",
    "print(\"Classification Report:\\n\", classification_report(y_test, predic_c1000))"
   ]
  },
  {
   "cell_type": "markdown",
   "id": "df89455a",
   "metadata": {},
   "source": [
    "##  Análisis Comparativo\n",
    "**Score Global:**\n",
    "\n",
    "SVM tiene una exactitud global más alta (84.04%) en comparación con Random Forest (80.37%).\n",
    "Precisión y Recall:\n",
    "\n",
    "*   SVM:\n",
    "Muestra una mayor precisión y recall para las clases 5 y 6, así como un mejor rendimiento general en comparación con Random Forest.\n",
    "Notablemente, la clase 5 tiene una precisión y recall de 0.92, lo cual es significativamente mayor que la precisión de Random Forest para la misma clase (0.74 y 0.93, respectivamente).\n",
    "*   Random Forest:\n",
    "Tiene una precisión y recall más bajos para la clase 2 en comparación con SVM. La clase 2 tiene un recall de 0.54 en comparación con 0.68 para SVM, lo que indica que Random Forest tiene más dificultades para identificar correctamente las instancias de esta clase.\n",
    "\n",
    "**F1-Score:**\n",
    "\n",
    "SVM tiene un f1-score más alto en varias clases en comparación con Random Forest, lo que indica un mejor equilibrio entre precisión y recall para esas clases.\n",
    "\n",
    "**Matriz de Confusión:**\n",
    "*   Random Forest:\n",
    "Tiene más errores en las predicciones de la clase 2, confundiéndola a menudo con otras clases.\n",
    "*   SVM:\n",
    "Aunque también tiene algunos errores de clasificación, muestra una mejor resultado en la mayoría de las clases comparado con Random Forest, especialmente en las clases 5 y 6.\n",
    "##  Conclusión\n",
    "El modelo SVM generalmente muestra un mejor desempeño en términos de precisión, recall, f1-score y exactitud global en comparación con el modelo Random Forest. Específicamente, SVM maneja mejor las clases 5 y 6, y muestra un rendimiento más consistente a través de todas las clases. Sin embargo, para tomar una decisión final, también deberías considerar otros factores como el tiempo de entrenamiento 40 segundos en SVM y 17 en Random forest, teniendo en cuenta que se ha balanceado los datos de forma que SVM pudiera terminar en un tiempo razonable donde Random forest si lo hacia con el dataset completo y la interpretabilidad del modelo donde SVM se puede tratar mejor los resultados del entrenamiento."
   ]
  },
  {
   "cell_type": "markdown",
   "id": "2d756202",
   "metadata": {},
   "source": [
    "### Investigación\n",
    "\n",
    "Buscar un artículo científico (https://scholar.google.es/) con un caso de uso de clasificación empleando una de las dos técnicas (o ambas) vistas en la actividad. Los artículos deben estar en revistas científicas, y deben ser posteriores a 2015. No debe utilizar técnicas de Deep Learning."
   ]
  },
  {
   "cell_type": "markdown",
   "id": "5da25f3b",
   "metadata": {},
   "source": [
    "Cohen A. M. (2011). Performance of support-vector-machine-based classification on 15 systematic review topics evaluated with the WSS@95 measure. Journal of the American Medical Informatics Association : JAMIA, 18(1), 104–105. .2011 Jan-Feb. https://doi.org/10.1136/jamia.2010.008177\n",
    "\n",
    "\n",
    "Objetivo:\n",
    "Evaluar y mejorar la eficiencia del proceso de revisión sistemática en medicina mediante técnicas de clasificación, reduciendo la carga de trabajo de los expertos. Esto se logra mediante la aplicación de técnicas de clasificación automatizadas para identificar artículos relevantes, reduciendo así la carga de trabajo de los expertos. En particular, la investigación compara el rendimiento de diferentes algoritmos de clasificación, como Support Vector Machine (SVM) y variantes del Naïve Bayes, en términos de su capacidad para ahorrar trabajo a los revisores sin sacrificar la precisión y el recall.\n",
    "\n",
    "Técnicas de Clasificación Empleadas:\n",
    "*   Support Vector Machine (SVM) (Algoritmo principal evaluado)\n",
    "*   Factorized Complement Naïve Bayes (FCNB/WE)\n",
    "*   Voting Perceptron (VP)\n",
    "\n",
    "Principales Resultados:\n",
    "SVM supera a FCNB/WE en la mayoría de los tópicos, con una mejora promedio del 22% en WSS@95, en cambio SVM es menos efectivo que VP para algunos temas con pocas muestras positivas. La investigación resalta la necesidad de mejorar los clasificadores para casos con alta exigencia de recall y pocas muestras positivas."
   ]
  }
 ],
 "metadata": {
  "kernelspec": {
   "display_name": "Python 3 (ipykernel)",
   "language": "python",
   "name": "python3"
  },
  "language_info": {
   "codemirror_mode": {
    "name": "ipython",
    "version": 3
   },
   "file_extension": ".py",
   "mimetype": "text/x-python",
   "name": "python",
   "nbconvert_exporter": "python",
   "pygments_lexer": "ipython3",
   "version": "3.11.7"
  }
 },
 "nbformat": 4,
 "nbformat_minor": 5
}
